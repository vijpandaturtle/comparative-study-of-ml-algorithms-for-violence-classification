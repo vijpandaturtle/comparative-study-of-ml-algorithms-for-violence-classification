{
  "nbformat": 4,
  "nbformat_minor": 0,
  "metadata": {
    "colab": {
      "name": "Event Detection Output.ipynb",
      "provenance": [],
      "collapsed_sections": []
    },
    "kernelspec": {
      "name": "python3",
      "display_name": "Python 3"
    },
    "language_info": {
      "name": "python"
    }
  },
  "cells": [
    {
      "cell_type": "code",
      "source": [
        "%%capture\n",
        "!pip install hummingbird-ml"
      ],
      "metadata": {
        "id": "Zrlh-ynJEQlH"
      },
      "execution_count": 1,
      "outputs": []
    },
    {
      "cell_type": "code",
      "source": [
        "import pickle\n",
        "from os import listdir\n",
        "from os.path import isfile, join\n",
        "import numpy as np\n",
        "import cv2"
      ],
      "metadata": {
        "id": "OwjDj4NQAIKu"
      },
      "execution_count": 2,
      "outputs": []
    },
    {
      "cell_type": "code",
      "source": [
        "from google.colab import drive\n",
        "drive.mount('/content/drive')"
      ],
      "metadata": {
        "colab": {
          "base_uri": "https://localhost:8080/"
        },
        "id": "SqvgpL-qD4bG",
        "outputId": "bf730a78-1db5-4eea-f2e0-7e7c19ea817a"
      },
      "execution_count": 3,
      "outputs": [
        {
          "output_type": "stream",
          "name": "stdout",
          "text": [
            "Drive already mounted at /content/drive; to attempt to forcibly remount, call drive.mount(\"/content/drive\", force_remount=True).\n"
          ]
        }
      ]
    },
    {
      "cell_type": "code",
      "source": [
        "with open('drive/MyDrive/RealLifeViolencePickle/output.pickle', 'rb') as handle:\n",
        "    output = pickle.load(handle)\n",
        "with open('drive/MyDrive/RealLifeViolencePickle/labels_output.pickle', 'rb') as labels:\n",
        "    labels_output = pickle.load(labels)"
      ],
      "metadata": {
        "id": "FehzllSICWpj"
      },
      "execution_count": 4,
      "outputs": []
    },
    {
      "cell_type": "code",
      "source": [
        "from hummingbird.ml import convert,load\n",
        "model = load('drive/MyDrive/EventDetection/saved_models/pytorch_decisiontree')\n",
        "predicted_labels = model.predict(output)\n",
        "print(predicted_labels)"
      ],
      "metadata": {
        "colab": {
          "base_uri": "https://localhost:8080/"
        },
        "id": "m1QzCSIoDOjl",
        "outputId": "f9fad37e-7631-4f9b-db2a-34b434747111"
      },
      "execution_count": 5,
      "outputs": [
        {
          "output_type": "stream",
          "name": "stderr",
          "text": [
            "/usr/local/lib/python3.7/dist-packages/sklearn/experimental/enable_hist_gradient_boosting.py:17: UserWarning: Since version 1.0, it is not needed to import enable_hist_gradient_boosting anymore. HistGradientBoostingClassifier and HistGradientBoostingRegressor are now stable and can be normally imported from sklearn.ensemble.\n",
            "  \"Since version 1.0, \"\n"
          ]
        },
        {
          "output_type": "stream",
          "name": "stdout",
          "text": [
            "[0 0 0 0 0 0 0 0 0 0 0 0 0 0 1 1 1 1 1 1 1 1 1 1 1 0 1 1]\n"
          ]
        }
      ]
    },
    {
      "cell_type": "code",
      "source": [
        "videoPath = 'drive/MyDrive/EventDetection/real_violence_kaggle/Test/Violent/V_8.mp4'"
      ],
      "metadata": {
        "id": "Kyf8ZnD-AMnl"
      },
      "execution_count": 6,
      "outputs": []
    },
    {
      "cell_type": "code",
      "execution_count": 8,
      "metadata": {
        "id": "ptDtienI-PEO",
        "colab": {
          "base_uri": "https://localhost:8080/"
        },
        "outputId": "03c2aa63-9caf-46d6-a35f-dc496fabdc0e"
      },
      "outputs": [
        {
          "output_type": "stream",
          "name": "stdout",
          "text": [
            "[INFO] cleaning up...\n"
          ]
        }
      ],
      "source": [
        "from google.colab.patches import cv2_imshow\n",
        "# initialize the video stream, pointer to output video file, and\n",
        "# frame dimensions\n",
        "vs = cv2.VideoCapture(videoPath)\n",
        "writer = None\n",
        "(W, H) = (None, None)\n",
        "count = -1\n",
        "# loop over frames from the video file stream\n",
        "while count < 25:\n",
        "\t\t# read the next frame from the file\n",
        "\t\t(grabbed, frame) = vs.read()\n",
        "\t\tcount += 1\n",
        "\t\t# if the frame was not grabbed, then we have reached the end\n",
        "\t\t# of the stream\n",
        "\t\tif not grabbed:\n",
        "\t\t\tbreak\n",
        "\t\t# if the frame dimensions are empty, grab them\n",
        "\t\tif W is None or H is None:\n",
        "\t\t\t(H, W) = frame.shape[:2]\n",
        "\t\t# clone the output frame, then convert it from BGR to RGB\n",
        "\t\t# ordering, resize the frame to a fixed 224x224, and then\n",
        "\t\t# perform mean subtraction\n",
        "\t\toutput = frame.copy()\n",
        "\t\tframe = cv2.cvtColor(frame, cv2.COLOR_BGR2RGB)\n",
        "\t\tframe = cv2.resize(frame, (100, 100)).astype(\"float32\")\n",
        "\t\t# make predictions on the frame and then update the predictions\n",
        "\t\t# queue\n",
        "\t\tif predicted_labels[count] == 1:\n",
        "\t\t\tlabel = \"Violent\"\n",
        "\t\t\tcolor = (0, 0, 255)\n",
        "\t\telse:\n",
        "\t\t\tlabel = \"Non-Violent\"\n",
        "\t\t\tcolor = (0, 255, 0)\n",
        "\t\t# draw the activity on the output frame\n",
        "\t\ttext = \"Activity: {}\".format(label)\n",
        "\t\tcv2.putText(output, text, (35, 50), cv2.FONT_HERSHEY_SIMPLEX,\n",
        "\t\t\t1.25, color, 5)\n",
        "\t\t# check if the video writer is None\n",
        "\t\tif writer is None:\n",
        "\t\t\t# initialize our video writer\n",
        "\t\t\tfourcc = cv2.VideoWriter_fourcc(*\"MJPG\")\n",
        "\t\t\twriter = cv2.VideoWriter('drive/MyDrive/EventDetection/output.avi', fourcc, 30,\n",
        "\t\t\t\t(W, H), True)\n",
        "\t\t# write the output frame to disk\n",
        "\t\twriter.write(output)\n",
        "\t\t# show the output image\n",
        "\t\t#cv2_imshow(output)\n",
        "\t\tkey = cv2.waitKey(1) & 0xFF\n",
        "\t\t# if the `q` key was pressed, break from the loop\n",
        "\t\tif key == ord(\"q\"):\n",
        "\t\t\tbreak\n",
        "# release the file pointers\n",
        "print(\"[INFO] cleaning up...\")\n",
        "writer.release()\n",
        "vs.release()"
      ]
    },
    {
      "cell_type": "code",
      "source": [
        ""
      ],
      "metadata": {
        "id": "qq3HjCQ_--of"
      },
      "execution_count": null,
      "outputs": []
    }
  ]
}