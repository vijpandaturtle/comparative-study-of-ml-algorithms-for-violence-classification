{
  "nbformat": 4,
  "nbformat_minor": 0,
  "metadata": {
    "colab": {
      "name": "Event Detection ML Kaggle.ipynb",
      "provenance": [],
      "collapsed_sections": []
    },
    "kernelspec": {
      "name": "python3",
      "display_name": "Python 3"
    },
    "language_info": {
      "name": "python"
    }
  },
  "cells": [
    {
      "cell_type": "code",
      "metadata": {
        "id": "452LVDRcPhHz"
      },
      "source": [
        "from os import listdir\n",
        "from os.path import isfile, join\n",
        "from sklearn import svm\n",
        "from sklearn.model_selection import train_test_split\n",
        "from sklearn.svm import LinearSVC\n",
        "from sklearn.metrics import classification_report, confusion_matrix, accuracy_score\n",
        "from sklearn.multiclass import OneVsRestClassifier\n",
        "from sklearn.neighbors import KNeighborsClassifier\n",
        "from sklearn.linear_model import LogisticRegression\n",
        "from sklearn.tree import DecisionTreeClassifier\n",
        "from sklearn.discriminant_analysis import LinearDiscriminantAnalysis\n",
        "import pickle"
      ],
      "execution_count": 1,
      "outputs": []
    },
    {
      "cell_type": "code",
      "metadata": {
        "colab": {
          "base_uri": "https://localhost:8080/"
        },
        "id": "QofPZmRHSuom",
        "outputId": "920e353c-b70d-4dc1-f60f-cfcf6aa588a1"
      },
      "source": [
        "from google.colab import drive\n",
        "drive.mount('/content/drive')"
      ],
      "execution_count": 2,
      "outputs": [
        {
          "output_type": "stream",
          "name": "stdout",
          "text": [
            "Mounted at /content/drive\n"
          ]
        }
      ]
    },
    {
      "cell_type": "code",
      "metadata": {
        "id": "o9lJ74PsQANE"
      },
      "source": [
        "with open('drive/MyDrive/RealLifeViolencePickle/training_violence2.pickle', 'rb') as handle:\n",
        "    allTrainingData = pickle.load(handle)"
      ],
      "execution_count": 3,
      "outputs": []
    },
    {
      "cell_type": "code",
      "source": [
        "allTrainingData.shape"
      ],
      "metadata": {
        "colab": {
          "base_uri": "https://localhost:8080/"
        },
        "id": "QhdEIiqRai3T",
        "outputId": "4892e0b7-7687-4fac-c7be-38978f59a874"
      },
      "execution_count": 4,
      "outputs": [
        {
          "output_type": "execute_result",
          "data": {
            "text/plain": [
              "(21508, 3780)"
            ]
          },
          "metadata": {},
          "execution_count": 4
        }
      ]
    },
    {
      "cell_type": "code",
      "source": [
        "with open('drive/MyDrive/RealLifeViolencePickle/labels_violence2.pickle', 'rb') as labels:\n",
        "    listOfFrameLabels = pickle.load(labels)"
      ],
      "metadata": {
        "id": "iltg6qHJVcUA"
      },
      "execution_count": 5,
      "outputs": []
    },
    {
      "cell_type": "code",
      "metadata": {
        "colab": {
          "base_uri": "https://localhost:8080/"
        },
        "id": "kaTzxHMhQF3o",
        "outputId": "8ab010e8-09dc-4c7b-e91b-1b766ca071ae"
      },
      "source": [
        "framesTrain, framesTest, labelsTrain, labelsTest = train_test_split(allTrainingData, listOfFrameLabels, test_size= 0.30)\n",
        "svcClassifier = LinearSVC(random_state=0)\n",
        "svcClassifier.fit(framesTrain,labelsTrain)\n",
        "labelPredict = svcClassifier.predict(framesTest)\n",
        "print(\"---------------SVM---------------\")\n",
        "print(confusion_matrix(labelsTest, labelPredict))  \n",
        "print(classification_report(labelsTest, labelPredict)) \n",
        "print('Total Accuracy: ',accuracy_score(labelsTest,labelPredict))"
      ],
      "execution_count": 6,
      "outputs": [
        {
          "output_type": "stream",
          "name": "stdout",
          "text": [
            "---------------SVM---------------\n",
            "[[3608  420]\n",
            " [ 759 1666]]\n",
            "              precision    recall  f1-score   support\n",
            "\n",
            "           0       0.83      0.90      0.86      4028\n",
            "           1       0.80      0.69      0.74      2425\n",
            "\n",
            "    accuracy                           0.82      6453\n",
            "   macro avg       0.81      0.79      0.80      6453\n",
            "weighted avg       0.82      0.82      0.81      6453\n",
            "\n",
            "Total Accuracy:  0.8172942817294282\n"
          ]
        },
        {
          "output_type": "stream",
          "name": "stderr",
          "text": [
            "/usr/local/lib/python3.7/dist-packages/sklearn/svm/_base.py:1208: ConvergenceWarning: Liblinear failed to converge, increase the number of iterations.\n",
            "  ConvergenceWarning,\n"
          ]
        }
      ]
    },
    {
      "cell_type": "code",
      "source": [
        "print(\"---------------KNN---------------\")\n",
        "neigh = KNeighborsClassifier(n_neighbors=5)\n",
        "neigh.fit(framesTrain, labelsTrain)\n",
        "labelPredict = neigh.predict(framesTest)\n",
        "print(confusion_matrix(labelsTest, labelPredict))\n",
        "print(classification_report(labelsTest, labelPredict))\n",
        "print('Total Accuracy: ',accuracy_score(labelsTest,labelPredict))"
      ],
      "metadata": {
        "colab": {
          "base_uri": "https://localhost:8080/"
        },
        "id": "4CBxPXuYWEy4",
        "outputId": "24aa7437-cedd-4431-d448-14e972fa55c1"
      },
      "execution_count": 7,
      "outputs": [
        {
          "output_type": "stream",
          "name": "stdout",
          "text": [
            "---------------KNN---------------\n",
            "[[3415  613]\n",
            " [ 272 2153]]\n",
            "              precision    recall  f1-score   support\n",
            "\n",
            "           0       0.93      0.85      0.89      4028\n",
            "           1       0.78      0.89      0.83      2425\n",
            "\n",
            "    accuracy                           0.86      6453\n",
            "   macro avg       0.85      0.87      0.86      6453\n",
            "weighted avg       0.87      0.86      0.86      6453\n",
            "\n",
            "Total Accuracy:  0.8628544862854486\n"
          ]
        }
      ]
    },
    {
      "cell_type": "code",
      "source": [
        "print(\"---------------Logistic Regression---------------\")\n",
        "logreg = LogisticRegression()\n",
        "logreg.fit(framesTrain, labelsTrain)\n",
        "labelPredict = logreg.predict(framesTest)\n",
        "print(confusion_matrix(labelsTest, labelPredict))\n",
        "print(classification_report(labelsTest, labelPredict))\n",
        "print('Total Accuracy: ',accuracy_score(labelsTest,labelPredict))"
      ],
      "metadata": {
        "colab": {
          "base_uri": "https://localhost:8080/"
        },
        "id": "EpCSSq2ZyvBT",
        "outputId": "f6f8499c-f761-4dcb-e11c-e7538f837934"
      },
      "execution_count": 8,
      "outputs": [
        {
          "output_type": "stream",
          "name": "stdout",
          "text": [
            "---------------Logistic Regression---------------\n",
            "[[3509  519]\n",
            " [ 406 2019]]\n",
            "              precision    recall  f1-score   support\n",
            "\n",
            "           0       0.90      0.87      0.88      4028\n",
            "           1       0.80      0.83      0.81      2425\n",
            "\n",
            "    accuracy                           0.86      6453\n",
            "   macro avg       0.85      0.85      0.85      6453\n",
            "weighted avg       0.86      0.86      0.86      6453\n",
            "\n",
            "Total Accuracy:  0.8566558189989152\n"
          ]
        },
        {
          "output_type": "stream",
          "name": "stderr",
          "text": [
            "/usr/local/lib/python3.7/dist-packages/sklearn/linear_model/_logistic.py:818: ConvergenceWarning: lbfgs failed to converge (status=1):\n",
            "STOP: TOTAL NO. of ITERATIONS REACHED LIMIT.\n",
            "\n",
            "Increase the number of iterations (max_iter) or scale the data as shown in:\n",
            "    https://scikit-learn.org/stable/modules/preprocessing.html\n",
            "Please also refer to the documentation for alternative solver options:\n",
            "    https://scikit-learn.org/stable/modules/linear_model.html#logistic-regression\n",
            "  extra_warning_msg=_LOGISTIC_SOLVER_CONVERGENCE_MSG,\n"
          ]
        }
      ]
    },
    {
      "cell_type": "code",
      "source": [
        "print(\"---------------Decision Tree---------------\")\n",
        "clf_model = DecisionTreeClassifier(criterion=\"gini\", random_state=42,max_depth=3, min_samples_leaf=5)   \n",
        "clf_model.fit(framesTrain, labelsTrain)\n",
        "labelPredict = clf_model.predict(framesTest)\n",
        "print(confusion_matrix(labelsTest, labelPredict))\n",
        "print(classification_report(labelsTest, labelPredict))\n",
        "print('Total Accuracy: ',accuracy_score(labelsTest,labelPredict))"
      ],
      "metadata": {
        "colab": {
          "base_uri": "https://localhost:8080/"
        },
        "id": "FcwrNYLu7ei6",
        "outputId": "e79e5fcf-5edf-460b-ce2e-117b4dd32ce7"
      },
      "execution_count": 9,
      "outputs": [
        {
          "output_type": "stream",
          "name": "stdout",
          "text": [
            "---------------Decision Tree---------------\n",
            "[[3263  765]\n",
            " [ 123 2302]]\n",
            "              precision    recall  f1-score   support\n",
            "\n",
            "           0       0.96      0.81      0.88      4028\n",
            "           1       0.75      0.95      0.84      2425\n",
            "\n",
            "    accuracy                           0.86      6453\n",
            "   macro avg       0.86      0.88      0.86      6453\n",
            "weighted avg       0.88      0.86      0.86      6453\n",
            "\n",
            "Total Accuracy:  0.8623895862389587\n"
          ]
        }
      ]
    },
    {
      "cell_type": "code",
      "source": [
        "print(\"---------------LDA---------------\")\n",
        "clf = LinearDiscriminantAnalysis()\n",
        "clf.fit(framesTrain, labelsTrain)\n",
        "labelPredict = clf.predict(framesTest)\n",
        "print(confusion_matrix(labelsTest, labelPredict))\n",
        "print(classification_report(labelsTest, labelPredict))\n",
        "print('Total Accuracy: ',accuracy_score(labelsTest,labelPredict))"
      ],
      "metadata": {
        "colab": {
          "base_uri": "https://localhost:8080/"
        },
        "id": "XiSy6F228HeP",
        "outputId": "083b38c5-ce5b-49a2-eb15-2b316a32bd62"
      },
      "execution_count": 11,
      "outputs": [
        {
          "output_type": "stream",
          "name": "stdout",
          "text": [
            "---------------LDA---------------\n",
            "[[3463  565]\n",
            " [ 224 2201]]\n",
            "              precision    recall  f1-score   support\n",
            "\n",
            "           0       0.94      0.86      0.90      4028\n",
            "           1       0.80      0.91      0.85      2425\n",
            "\n",
            "    accuracy                           0.88      6453\n",
            "   macro avg       0.87      0.88      0.87      6453\n",
            "weighted avg       0.89      0.88      0.88      6453\n",
            "\n",
            "Total Accuracy:  0.8777312877731288\n"
          ]
        }
      ]
    },
    {
      "cell_type": "code",
      "source": [
        "from sklearn.ensemble import GradientBoostingClassifier\n",
        "gb_clf = GradientBoostingClassifier(n_estimators=20, learning_rate=0.1, max_features=2, max_depth=2, random_state=0)\n",
        "gb_clf.fit(framesTrain, labelsTrain)\n",
        "labelPredict = gb_clf.predict(framesTest)\n",
        "print(confusion_matrix(labelsTest, labelPredict))\n",
        "print(classification_report(labelsTest, labelPredict))\n",
        "print('Total Accuracy: ',accuracy_score(labelsTest,labelPredict))"
      ],
      "metadata": {
        "colab": {
          "base_uri": "https://localhost:8080/"
        },
        "id": "pmxFdBWUJ2HX",
        "outputId": "1bf7031a-56c5-47ed-dd2d-2a77b63c046b"
      },
      "execution_count": 10,
      "outputs": [
        {
          "output_type": "stream",
          "name": "stdout",
          "text": [
            "[[3300  728]\n",
            " [ 169 2256]]\n",
            "              precision    recall  f1-score   support\n",
            "\n",
            "           0       0.95      0.82      0.88      4028\n",
            "           1       0.76      0.93      0.83      2425\n",
            "\n",
            "    accuracy                           0.86      6453\n",
            "   macro avg       0.85      0.87      0.86      6453\n",
            "weighted avg       0.88      0.86      0.86      6453\n",
            "\n",
            "Total Accuracy:  0.8609948860994886\n"
          ]
        }
      ]
    },
    {
      "cell_type": "code",
      "source": [
        "from sklearn.ensemble import RandomForestClassifier\n",
        "clf=RandomForestClassifier(n_estimators=100)\n",
        "clf.fit(framesTrain, labelsTrain)\n",
        "labelPredict = clf.predict(framesTest)\n",
        "print(confusion_matrix(labelsTest, labelPredict))\n",
        "print(classification_report(labelsTest, labelPredict))\n",
        "print('Total Accuracy: ',accuracy_score(labelsTest,labelPredict))"
      ],
      "metadata": {
        "colab": {
          "base_uri": "https://localhost:8080/"
        },
        "id": "quZyd5RvLu4V",
        "outputId": "5f84f0d1-085a-4a78-e76f-4c4ca0f26973"
      },
      "execution_count": 12,
      "outputs": [
        {
          "output_type": "stream",
          "name": "stdout",
          "text": [
            "[[3404  624]\n",
            " [  24 2401]]\n",
            "              precision    recall  f1-score   support\n",
            "\n",
            "           0       0.99      0.85      0.91      4028\n",
            "           1       0.79      0.99      0.88      2425\n",
            "\n",
            "    accuracy                           0.90      6453\n",
            "   macro avg       0.89      0.92      0.90      6453\n",
            "weighted avg       0.92      0.90      0.90      6453\n",
            "\n",
            "Total Accuracy:  0.899581589958159\n"
          ]
        }
      ]
    }
  ]
}