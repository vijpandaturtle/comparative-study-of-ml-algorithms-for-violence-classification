{
  "nbformat": 4,
  "nbformat_minor": 0,
  "metadata": {
    "colab": {
      "name": "Event Detection ML Kaggle Hummingbird.ipynb",
      "provenance": [],
      "collapsed_sections": []
    },
    "kernelspec": {
      "name": "python3",
      "display_name": "Python 3"
    },
    "language_info": {
      "name": "python"
    },
    "accelerator": "GPU"
  },
  "cells": [
    {
      "cell_type": "code",
      "source": [
        "%%capture\n",
        "!pip install hummingbird-ml"
      ],
      "metadata": {
        "id": "-L5F4lpz85oq"
      },
      "execution_count": 1,
      "outputs": []
    },
    {
      "cell_type": "code",
      "metadata": {
        "id": "452LVDRcPhHz",
        "colab": {
          "base_uri": "https://localhost:8080/"
        },
        "outputId": "1fd44b40-0ee0-4fab-e987-24a8643dfab9"
      },
      "source": [
        "import pickle\n",
        "from os import listdir\n",
        "from os.path import isfile, join\n",
        "import numpy as np\n",
        "\n",
        "from sklearn import svm\n",
        "from sklearn.model_selection import train_test_split\n",
        "from sklearn.svm import LinearSVC, SVC\n",
        "from sklearn.metrics import classification_report, confusion_matrix, accuracy_score\n",
        "from sklearn.neighbors import KNeighborsClassifier\n",
        "from sklearn.linear_model import LogisticRegression\n",
        "from sklearn.tree import DecisionTreeClassifier\n",
        "from sklearn.discriminant_analysis import LinearDiscriminantAnalysis\n",
        "\n",
        "from hummingbird.ml import convert,load"
      ],
      "execution_count": 2,
      "outputs": [
        {
          "output_type": "stream",
          "name": "stderr",
          "text": [
            "/usr/local/lib/python3.7/dist-packages/sklearn/experimental/enable_hist_gradient_boosting.py:17: UserWarning: Since version 1.0, it is not needed to import enable_hist_gradient_boosting anymore. HistGradientBoostingClassifier and HistGradientBoostingRegressor are now stable and can be normally imported from sklearn.ensemble.\n",
            "  \"Since version 1.0, \"\n"
          ]
        }
      ]
    },
    {
      "cell_type": "code",
      "metadata": {
        "colab": {
          "base_uri": "https://localhost:8080/"
        },
        "id": "QofPZmRHSuom",
        "outputId": "6a7e70f0-cd3a-4de4-fe39-59c495fba965"
      },
      "source": [
        "from google.colab import drive\n",
        "drive.mount('/content/drive')"
      ],
      "execution_count": 3,
      "outputs": [
        {
          "output_type": "stream",
          "name": "stdout",
          "text": [
            "Mounted at /content/drive\n"
          ]
        }
      ]
    },
    {
      "cell_type": "code",
      "metadata": {
        "id": "o9lJ74PsQANE"
      },
      "source": [
        "with open('drive/MyDrive/RealLifeViolencePickle/training_violence2.pickle', 'rb') as handle:\n",
        "    training_run2 = pickle.load(handle)\n",
        "with open('drive/MyDrive/RealLifeViolencePickle/training_violence3.pickle', 'rb') as handle:\n",
        "    training_run3 = pickle.load(handle)\n",
        "with open('drive/MyDrive/RealLifeViolencePickle/training_violence4.pickle', 'rb') as handle:\n",
        "    training_run4 = pickle.load(handle)\n",
        "with open('drive/MyDrive/RealLifeViolencePickle/training_violence_test.pickle', 'rb') as handle:\n",
        "    allTestingData = pickle.load(handle)"
      ],
      "execution_count": 4,
      "outputs": []
    },
    {
      "cell_type": "code",
      "source": [
        "allTrainingData = np.concatenate([training_run2, training_run3, training_run4])"
      ],
      "metadata": {
        "id": "Z3qZHMu2ARJg"
      },
      "execution_count": 5,
      "outputs": []
    },
    {
      "cell_type": "code",
      "source": [
        "allTrainingData.shape"
      ],
      "metadata": {
        "colab": {
          "base_uri": "https://localhost:8080/"
        },
        "id": "QhdEIiqRai3T",
        "outputId": "40fc8274-df01-4e2d-960a-8247e5f4e1f3"
      },
      "execution_count": 6,
      "outputs": [
        {
          "output_type": "execute_result",
          "data": {
            "text/plain": [
              "(73384, 3780)"
            ]
          },
          "metadata": {},
          "execution_count": 6
        }
      ]
    },
    {
      "cell_type": "code",
      "source": [
        "allTestingData.shape"
      ],
      "metadata": {
        "colab": {
          "base_uri": "https://localhost:8080/"
        },
        "id": "9Uj-CXJ_mHay",
        "outputId": "db0d576d-b43d-4108-89a6-ceecdccf491a"
      },
      "execution_count": 7,
      "outputs": [
        {
          "output_type": "execute_result",
          "data": {
            "text/plain": [
              "(22918, 3780)"
            ]
          },
          "metadata": {},
          "execution_count": 7
        }
      ]
    },
    {
      "cell_type": "code",
      "source": [
        "with open('drive/MyDrive/RealLifeViolencePickle/labels_violence2.pickle', 'rb') as labels:\n",
        "  labels_run2 = pickle.load(labels)\n",
        "with open('drive/MyDrive/RealLifeViolencePickle/labels_violence3.pickle', 'rb') as labels:\n",
        "  labels_run3 = pickle.load(labels)\n",
        "with open('drive/MyDrive/RealLifeViolencePickle/labels_violence4.pickle', 'rb') as labels:\n",
        "  labels_run4 = pickle.load(labels)\n",
        "with open('drive/MyDrive/RealLifeViolencePickle/labels_violence_test.pickle', 'rb') as labels:\n",
        "  listOfFrameLabelsTest = pickle.load(labels)"
      ],
      "metadata": {
        "id": "iltg6qHJVcUA"
      },
      "execution_count": 8,
      "outputs": []
    },
    {
      "cell_type": "code",
      "source": [
        "listOfFrameLabels = np.concatenate([labels_run2, labels_run3, labels_run4])"
      ],
      "metadata": {
        "id": "G6or7YTFBZaP"
      },
      "execution_count": 9,
      "outputs": []
    },
    {
      "cell_type": "markdown",
      "source": [
        "## SVM (Support Vector Machine)"
      ],
      "metadata": {
        "id": "v1gDf-rH-lLx"
      }
    },
    {
      "cell_type": "code",
      "metadata": {
        "colab": {
          "base_uri": "https://localhost:8080/"
        },
        "id": "kaTzxHMhQF3o",
        "outputId": "abd314a5-cc62-487f-8aca-8ce2c44c5733"
      },
      "source": [
        "#framesTrain, framesTest, labelsTrain, labelsTest = train_test_split(allTrainingData, listOfFrameLabels, test_size= 0.00)\n",
        "framesTrain, labelsTrain = allTrainingData, listOfFrameLabels\n",
        "framesTest, labelsTest = allTestingData, listOfFrameLabelsTest\n",
        "svcClassifier = LinearSVC(random_state=0,max_iter=1000,C=0.2)\n",
        "svcClassifier.fit(framesTrain,labelsTrain)\n",
        "labelPredict = svcClassifier.predict(framesTest)\n",
        "print(\"---------------SVM---------------\")\n",
        "print(confusion_matrix(labelsTest, labelPredict))  \n",
        "print(classification_report(labelsTest, labelPredict)) \n",
        "print('Total Accuracy: ',accuracy_score(labelsTest,labelPredict))"
      ],
      "execution_count": 10,
      "outputs": [
        {
          "output_type": "stream",
          "name": "stderr",
          "text": [
            "/usr/local/lib/python3.7/dist-packages/sklearn/svm/_base.py:1208: ConvergenceWarning: Liblinear failed to converge, increase the number of iterations.\n",
            "  ConvergenceWarning,\n"
          ]
        },
        {
          "output_type": "stream",
          "name": "stdout",
          "text": [
            "---------------SVM---------------\n",
            "[[10671   185]\n",
            " [ 3587  8475]]\n",
            "              precision    recall  f1-score   support\n",
            "\n",
            "           0       0.75      0.98      0.85     10856\n",
            "           1       0.98      0.70      0.82     12062\n",
            "\n",
            "    accuracy                           0.84     22918\n",
            "   macro avg       0.86      0.84      0.83     22918\n",
            "weighted avg       0.87      0.84      0.83     22918\n",
            "\n",
            "Total Accuracy:  0.8354132123221921\n"
          ]
        }
      ]
    },
    {
      "cell_type": "markdown",
      "source": [
        "Measuring inference time"
      ],
      "metadata": {
        "id": "F2IC2euc_RGu"
      }
    },
    {
      "cell_type": "code",
      "source": [
        "svc_time = %timeit -o svcClassifier.predict(framesTest)"
      ],
      "metadata": {
        "id": "zhfLM6Q9_OZ9",
        "colab": {
          "base_uri": "https://localhost:8080/"
        },
        "outputId": "95e3acee-c520-436e-bdfd-5f2f7fa4292c"
      },
      "execution_count": 11,
      "outputs": [
        {
          "output_type": "stream",
          "name": "stdout",
          "text": [
            "10 loops, best of 5: 149 ms per loop\n"
          ]
        }
      ]
    },
    {
      "cell_type": "code",
      "source": [
        "model_pytorch = convert(svcClassifier, 'torch')\n",
        "# Timing the inference for Pytorch on CPU only\n",
        "pred_cpu = %timeit -o model_pytorch.predict(framesTest)"
      ],
      "metadata": {
        "colab": {
          "base_uri": "https://localhost:8080/"
        },
        "id": "32q68s1iLVPt",
        "outputId": "a44d08c9-f44d-4d1f-e215-a1822ed8f217"
      },
      "execution_count": 19,
      "outputs": [
        {
          "output_type": "stream",
          "name": "stdout",
          "text": [
            "1 loop, best of 5: 209 ms per loop\n"
          ]
        }
      ]
    },
    {
      "cell_type": "code",
      "source": [
        "model_pytorch.to('cuda')\n",
        "pred_gpu = %timeit -o model_pytorch.predict(framesTest)"
      ],
      "metadata": {
        "colab": {
          "base_uri": "https://localhost:8080/"
        },
        "id": "YF5qki0BLfqb",
        "outputId": "bd1355a8-b857-48ac-d43c-000d6d5a0c68"
      },
      "execution_count": 24,
      "outputs": [
        {
          "output_type": "stream",
          "name": "stdout",
          "text": [
            "1 loop, best of 5: 269 ms per loop\n"
          ]
        }
      ]
    },
    {
      "cell_type": "markdown",
      "source": [
        "## KNN (K-Nearest Neighbour)"
      ],
      "metadata": {
        "id": "j8Or-Fyz-n7R"
      }
    },
    {
      "cell_type": "code",
      "source": [
        "print(\"---------------KNN---------------\")\n",
        "neigh = KNeighborsClassifier(n_neighbors=5)\n",
        "neigh.fit(framesTrain, labelsTrain)\n",
        "labelPredict = neigh.predict(framesTest)\n",
        "print(confusion_matrix(labelsTest, labelPredict))\n",
        "print(classification_report(labelsTest, labelPredict))\n",
        "print('Total Accuracy: ',accuracy_score(labelsTest,labelPredict))"
      ],
      "metadata": {
        "colab": {
          "base_uri": "https://localhost:8080/"
        },
        "id": "4CBxPXuYWEy4",
        "outputId": "5ec8e12c-ee8e-441a-f77d-218d51d3abed"
      },
      "execution_count": null,
      "outputs": [
        {
          "output_type": "stream",
          "name": "stdout",
          "text": [
            "---------------KNN---------------\n",
            "[[10529  2833]\n",
            " [  546  7600]]\n",
            "              precision    recall  f1-score   support\n",
            "\n",
            "           0       0.95      0.79      0.86     13362\n",
            "           1       0.73      0.93      0.82      8146\n",
            "\n",
            "    accuracy                           0.84     21508\n",
            "   macro avg       0.84      0.86      0.84     21508\n",
            "weighted avg       0.87      0.84      0.85     21508\n",
            "\n",
            "Total Accuracy:  0.8428956667286591\n"
          ]
        }
      ]
    },
    {
      "cell_type": "code",
      "source": [
        "neigh_time = %timeit -o neigh.predict(framesTest)"
      ],
      "metadata": {
        "id": "WuC8Shnf_Zyu"
      },
      "execution_count": null,
      "outputs": []
    },
    {
      "cell_type": "markdown",
      "source": [
        "## Logistic Regression"
      ],
      "metadata": {
        "id": "-TJDoqVH-q61"
      }
    },
    {
      "cell_type": "code",
      "source": [
        "print(\"---------------Logistic Regression---------------\")\n",
        "logreg = LogisticRegression()\n",
        "logreg.fit(framesTrain, labelsTrain)\n",
        "labelPredict = logreg.predict(framesTest)\n",
        "print(confusion_matrix(labelsTest, labelPredict))\n",
        "print(classification_report(labelsTest, labelPredict))\n",
        "print('Total Accuracy: ',accuracy_score(labelsTest,labelPredict))"
      ],
      "metadata": {
        "colab": {
          "base_uri": "https://localhost:8080/"
        },
        "id": "EpCSSq2ZyvBT",
        "outputId": "4c42d8f1-e8c2-4a88-ce25-8ffa26c54c74"
      },
      "execution_count": null,
      "outputs": [
        {
          "output_type": "stream",
          "name": "stdout",
          "text": [
            "---------------Logistic Regression---------------\n"
          ]
        },
        {
          "output_type": "stream",
          "name": "stderr",
          "text": [
            "/usr/local/lib/python3.7/dist-packages/sklearn/linear_model/_logistic.py:818: ConvergenceWarning: lbfgs failed to converge (status=1):\n",
            "STOP: TOTAL NO. of ITERATIONS REACHED LIMIT.\n",
            "\n",
            "Increase the number of iterations (max_iter) or scale the data as shown in:\n",
            "    https://scikit-learn.org/stable/modules/preprocessing.html\n",
            "Please also refer to the documentation for alternative solver options:\n",
            "    https://scikit-learn.org/stable/modules/linear_model.html#logistic-regression\n",
            "  extra_warning_msg=_LOGISTIC_SOLVER_CONVERGENCE_MSG,\n"
          ]
        },
        {
          "output_type": "stream",
          "name": "stdout",
          "text": [
            "[[10417  2945]\n",
            " [  149  7997]]\n",
            "              precision    recall  f1-score   support\n",
            "\n",
            "           0       0.99      0.78      0.87     13362\n",
            "           1       0.73      0.98      0.84      8146\n",
            "\n",
            "    accuracy                           0.86     21508\n",
            "   macro avg       0.86      0.88      0.85     21508\n",
            "weighted avg       0.89      0.86      0.86     21508\n",
            "\n",
            "Total Accuracy:  0.8561465501208853\n"
          ]
        }
      ]
    },
    {
      "cell_type": "code",
      "source": [
        "logreg_time = %timeit -o logreg.predict(framesTest)"
      ],
      "metadata": {
        "id": "C-1LWQ3R_o8S"
      },
      "execution_count": null,
      "outputs": []
    },
    {
      "cell_type": "markdown",
      "source": [
        "## Decision Tree"
      ],
      "metadata": {
        "id": "dk_uVUK1-4SO"
      }
    },
    {
      "cell_type": "code",
      "source": [
        "print(\"---------------Decision Tree---------------\")\n",
        "clf_model = DecisionTreeClassifier(criterion=\"gini\", random_state=42,max_depth=3, min_samples_leaf=5)   \n",
        "clf_model.fit(framesTrain, labelsTrain)\n",
        "labelPredict = clf_model.predict(framesTest)\n",
        "print(confusion_matrix(labelsTest, labelPredict))\n",
        "print(classification_report(labelsTest, labelPredict))\n",
        "print('Total Accuracy: ',accuracy_score(labelsTest,labelPredict))"
      ],
      "metadata": {
        "colab": {
          "base_uri": "https://localhost:8080/"
        },
        "id": "FcwrNYLu7ei6",
        "outputId": "3181acd0-726b-4342-9fc7-e4c168fe59b2"
      },
      "execution_count": null,
      "outputs": [
        {
          "output_type": "stream",
          "name": "stdout",
          "text": [
            "---------------Decision Tree---------------\n",
            "[[10806  2556]\n",
            " [  354  7792]]\n",
            "              precision    recall  f1-score   support\n",
            "\n",
            "           0       0.97      0.81      0.88     13362\n",
            "           1       0.75      0.96      0.84      8146\n",
            "\n",
            "    accuracy                           0.86     21508\n",
            "   macro avg       0.86      0.88      0.86     21508\n",
            "weighted avg       0.89      0.86      0.87     21508\n",
            "\n",
            "Total Accuracy:  0.8647015064162172\n"
          ]
        }
      ]
    },
    {
      "cell_type": "code",
      "source": [
        "logreg_time = %timeit -o logreg.predict(framesTest)"
      ],
      "metadata": {
        "id": "mpFQ2FfOALo7"
      },
      "execution_count": null,
      "outputs": []
    },
    {
      "cell_type": "code",
      "source": [
        "model_pytorch = convert(logreg, 'torch')\n",
        "# Timing the inference for Pytorch on CPU only\n",
        "pred_cpu = %timeit -o model_pytorch.predict(X_test)"
      ],
      "metadata": {
        "id": "NYk-7xskAMYu"
      },
      "execution_count": null,
      "outputs": []
    },
    {
      "cell_type": "code",
      "source": [
        "%%capture \n",
        "model_pytorch.to('cuda')\n",
        "pred_gpu = %timeit -o model_pytorch.predict(X_test)"
      ],
      "metadata": {
        "id": "oKgF8WO0AO14"
      },
      "execution_count": null,
      "outputs": []
    },
    {
      "cell_type": "markdown",
      "source": [
        "## LDA (Linear Discriminant Analysis)"
      ],
      "metadata": {
        "id": "HMMyiAOJ-7uf"
      }
    },
    {
      "cell_type": "code",
      "source": [
        "print(\"---------------LDA---------------\")\n",
        "clf = LinearDiscriminantAnalysis()\n",
        "clf.fit(framesTrain, labelsTrain)\n",
        "labelPredict = clf.predict(framesTest)\n",
        "print(confusion_matrix(labelsTest, labelPredict))\n",
        "print(classification_report(labelsTest, labelPredict))\n",
        "print('Total Accuracy: ',accuracy_score(labelsTest,labelPredict))"
      ],
      "metadata": {
        "colab": {
          "base_uri": "https://localhost:8080/"
        },
        "id": "XiSy6F228HeP",
        "outputId": "1cc9d560-f20a-420b-d9b1-5ef8ad26fde6"
      },
      "execution_count": null,
      "outputs": [
        {
          "output_type": "stream",
          "name": "stdout",
          "text": [
            "---------------LDA---------------\n"
          ]
        }
      ]
    },
    {
      "cell_type": "markdown",
      "source": [
        "## Gradient Boosting"
      ],
      "metadata": {
        "id": "Ta-YXZUg_ApP"
      }
    },
    {
      "cell_type": "code",
      "source": [
        "from sklearn.ensemble import GradientBoostingClassifier\n",
        "gb_clf = GradientBoostingClassifier(n_estimators=20, learning_rate=0.1, max_features=2, max_depth=2, random_state=0)\n",
        "gb_clf.fit(framesTrain, labelsTrain)\n",
        "labelPredict = gb_clf.predict(framesTest)\n",
        "print(confusion_matrix(labelsTest, labelPredict))\n",
        "print(classification_report(labelsTest, labelPredict))\n",
        "print('Total Accuracy: ',accuracy_score(labelsTest,labelPredict))"
      ],
      "metadata": {
        "colab": {
          "base_uri": "https://localhost:8080/"
        },
        "id": "pmxFdBWUJ2HX",
        "outputId": "4fbad108-111d-48b7-8fe9-01a187d00e32"
      },
      "execution_count": 31,
      "outputs": [
        {
          "output_type": "stream",
          "name": "stdout",
          "text": [
            "[[10856     0]\n",
            " [  659 11403]]\n",
            "              precision    recall  f1-score   support\n",
            "\n",
            "           0       0.94      1.00      0.97     10856\n",
            "           1       1.00      0.95      0.97     12062\n",
            "\n",
            "    accuracy                           0.97     22918\n",
            "   macro avg       0.97      0.97      0.97     22918\n",
            "weighted avg       0.97      0.97      0.97     22918\n",
            "\n",
            "Total Accuracy:  0.9712453093638188\n"
          ]
        }
      ]
    },
    {
      "cell_type": "code",
      "source": [
        "gb_time = %timeit -o gb_clf.predict(framesTest)"
      ],
      "metadata": {
        "colab": {
          "base_uri": "https://localhost:8080/"
        },
        "id": "wlUgnf00XHRG",
        "outputId": "87314ac9-a234-4500-f783-3d2f59bec66b"
      },
      "execution_count": 32,
      "outputs": [
        {
          "output_type": "stream",
          "name": "stdout",
          "text": [
            "1 loop, best of 5: 464 ms per loop\n"
          ]
        }
      ]
    },
    {
      "cell_type": "code",
      "source": [
        "model_pytorch = convert(gb_clf, 'torch')\n",
        "# Timing the inference for Pytorch on CPU only\n",
        "pred_cpu = %timeit -o model_pytorch.predict(framesTest)"
      ],
      "metadata": {
        "colab": {
          "base_uri": "https://localhost:8080/"
        },
        "id": "YapEFGGiXOh9",
        "outputId": "8cdd4056-9189-4190-ba0f-4972c983a91f"
      },
      "execution_count": 34,
      "outputs": [
        {
          "output_type": "stream",
          "name": "stderr",
          "text": [
            "/usr/local/lib/python3.7/dist-packages/sklearn/utils/deprecation.py:103: FutureWarning: Attribute `n_features_` was deprecated in version 1.0 and will be removed in 1.2. Use `n_features_in_` instead.\n",
            "  warnings.warn(msg, category=FutureWarning)\n"
          ]
        },
        {
          "output_type": "stream",
          "name": "stdout",
          "text": [
            "1 loop, best of 5: 405 ms per loop\n"
          ]
        }
      ]
    },
    {
      "cell_type": "code",
      "source": [
        "model_pytorch.to('cuda')\n",
        "pred_gpu = %timeit -o model_pytorch.predict(framesTest)"
      ],
      "metadata": {
        "colab": {
          "base_uri": "https://localhost:8080/"
        },
        "id": "gjICk5uRXSxH",
        "outputId": "5c3bc313-4ae5-4a4d-d31a-67caffd4d93b"
      },
      "execution_count": 35,
      "outputs": [
        {
          "output_type": "stream",
          "name": "stdout",
          "text": [
            "1 loop, best of 5: 224 ms per loop\n"
          ]
        }
      ]
    },
    {
      "cell_type": "markdown",
      "source": [
        "## Random Forest"
      ],
      "metadata": {
        "id": "FGoGScgQ_EfN"
      }
    },
    {
      "cell_type": "code",
      "source": [
        "from sklearn.ensemble import RandomForestClassifier\n",
        "clf=RandomForestClassifier(n_estimators=100)\n",
        "clf.fit(framesTrain, labelsTrain)\n",
        "labelPredict = clf.predict(framesTest)\n",
        "print(confusion_matrix(labelsTest, labelPredict))\n",
        "print(classification_report(labelsTest, labelPredict))\n",
        "print('Total Accuracy: ',accuracy_score(labelsTest,labelPredict))"
      ],
      "metadata": {
        "colab": {
          "base_uri": "https://localhost:8080/"
        },
        "id": "quZyd5RvLu4V",
        "outputId": "16971f0c-414c-4a26-b8a2-b316b28e742a"
      },
      "execution_count": 25,
      "outputs": [
        {
          "output_type": "stream",
          "name": "stdout",
          "text": [
            "[[10854     2]\n",
            " [ 1162 10900]]\n",
            "              precision    recall  f1-score   support\n",
            "\n",
            "           0       0.90      1.00      0.95     10856\n",
            "           1       1.00      0.90      0.95     12062\n",
            "\n",
            "    accuracy                           0.95     22918\n",
            "   macro avg       0.95      0.95      0.95     22918\n",
            "weighted avg       0.95      0.95      0.95     22918\n",
            "\n",
            "Total Accuracy:  0.9492102277685662\n"
          ]
        }
      ]
    },
    {
      "cell_type": "code",
      "source": [
        "clf_time = %timeit -o clf.predict(framesTest)"
      ],
      "metadata": {
        "id": "4wNFopjIAV4P",
        "colab": {
          "base_uri": "https://localhost:8080/"
        },
        "outputId": "6f87d39a-1e91-4af9-a2c9-d5010bf84037"
      },
      "execution_count": 26,
      "outputs": [
        {
          "output_type": "stream",
          "name": "stdout",
          "text": [
            "1 loop, best of 5: 1.94 s per loop\n"
          ]
        }
      ]
    },
    {
      "cell_type": "code",
      "source": [
        "model_pytorch = convert(clf, 'torch')\n",
        "# Timing the inference for Pytorch on CPU only\n",
        "pred_cpu = %timeit -o model_pytorch.predict(framesTest)"
      ],
      "metadata": {
        "id": "4jfonyNxAZto",
        "colab": {
          "base_uri": "https://localhost:8080/"
        },
        "outputId": "0ae7885a-7789-40e9-9204-11dd40c4a7c8"
      },
      "execution_count": 27,
      "outputs": [
        {
          "output_type": "stream",
          "name": "stderr",
          "text": [
            "/usr/local/lib/python3.7/dist-packages/sklearn/utils/deprecation.py:103: FutureWarning: Attribute `n_features_` was deprecated in version 1.0 and will be removed in 1.2. Use `n_features_in_` instead.\n",
            "  warnings.warn(msg, category=FutureWarning)\n"
          ]
        },
        {
          "output_type": "stream",
          "name": "stdout",
          "text": [
            "1 loop, best of 5: 11.3 s per loop\n"
          ]
        }
      ]
    },
    {
      "cell_type": "code",
      "source": [
        "model_pytorch.to('cuda')\n",
        "pred_gpu = %timeit -o model_pytorch.predict(framesTest)"
      ],
      "metadata": {
        "id": "DOHQtrTVAdls",
        "colab": {
          "base_uri": "https://localhost:8080/"
        },
        "outputId": "71ac0d4c-0331-485a-b1c3-2a2bada2b812"
      },
      "execution_count": 29,
      "outputs": [
        {
          "output_type": "stream",
          "name": "stdout",
          "text": [
            "1 loop, best of 5: 765 ms per loop\n"
          ]
        }
      ]
    }
  ]
}