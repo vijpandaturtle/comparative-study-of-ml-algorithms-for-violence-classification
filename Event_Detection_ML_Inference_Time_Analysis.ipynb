{
  "nbformat": 4,
  "nbformat_minor": 0,
  "metadata": {
    "colab": {
      "name": "Event Detection ML Inference Time Analysis.ipynb",
      "provenance": [],
      "collapsed_sections": []
    },
    "kernelspec": {
      "name": "python3",
      "display_name": "Python 3"
    },
    "language_info": {
      "name": "python"
    },
    "accelerator": "GPU"
  },
  "cells": [
    {
      "cell_type": "code",
      "execution_count": 1,
      "metadata": {
        "id": "iNHpnenYbk0Q"
      },
      "outputs": [],
      "source": [
        "%%capture\n",
        "!pip install hummingbird-ml"
      ]
    },
    {
      "cell_type": "code",
      "source": [
        "import pickle\n",
        "import numpy as np\n",
        "\n",
        "from hummingbird.ml import convert,load"
      ],
      "metadata": {
        "colab": {
          "base_uri": "https://localhost:8080/"
        },
        "id": "VXJv1RBHfcCZ",
        "outputId": "94ea0e74-674f-4697-af41-29f93c80c88f"
      },
      "execution_count": 2,
      "outputs": [
        {
          "output_type": "stream",
          "name": "stderr",
          "text": [
            "/usr/local/lib/python3.7/dist-packages/sklearn/experimental/enable_hist_gradient_boosting.py:17: UserWarning: Since version 1.0, it is not needed to import enable_hist_gradient_boosting anymore. HistGradientBoostingClassifier and HistGradientBoostingRegressor are now stable and can be normally imported from sklearn.ensemble.\n",
            "  \"Since version 1.0, \"\n"
          ]
        }
      ]
    },
    {
      "cell_type": "code",
      "source": [
        "from google.colab import drive\n",
        "drive.mount('/content/drive')"
      ],
      "metadata": {
        "colab": {
          "base_uri": "https://localhost:8080/"
        },
        "id": "QbTQzxyAfk7S",
        "outputId": "db4b832d-61bd-4f3c-db94-06558e9cf9cf"
      },
      "execution_count": 3,
      "outputs": [
        {
          "output_type": "stream",
          "name": "stdout",
          "text": [
            "Mounted at /content/drive\n"
          ]
        }
      ]
    },
    {
      "cell_type": "code",
      "source": [
        "with open('drive/MyDrive/RealLifeViolencePickle/test_violence.pickle', 'rb') as handle:\n",
        "    test_run = pickle.load(handle)\n",
        "with open('drive/MyDrive/RealLifeViolencePickle/labels_violence_test.pickle', 'rb') as labels:\n",
        "    labels_test = pickle.load(labels)"
      ],
      "metadata": {
        "id": "Q1u1M6sFgIN7"
      },
      "execution_count": 4,
      "outputs": []
    },
    {
      "cell_type": "code",
      "source": [
        "test_run.shape"
      ],
      "metadata": {
        "colab": {
          "base_uri": "https://localhost:8080/"
        },
        "id": "MhvmjQ0ygZ8a",
        "outputId": "205e985c-e828-428f-d76b-0277188185ab"
      },
      "execution_count": 5,
      "outputs": [
        {
          "output_type": "execute_result",
          "data": {
            "text/plain": [
              "(784, 3780)"
            ]
          },
          "metadata": {},
          "execution_count": 5
        }
      ]
    },
    {
      "cell_type": "code",
      "source": [
        "labels_test = np.array(labels_test)\n",
        "labels_test.shape"
      ],
      "metadata": {
        "colab": {
          "base_uri": "https://localhost:8080/"
        },
        "id": "MLGUGeHAghXP",
        "outputId": "60e0c25f-ce4e-43d8-ca8b-7a3830b33dcd"
      },
      "execution_count": 6,
      "outputs": [
        {
          "output_type": "execute_result",
          "data": {
            "text/plain": [
              "(784,)"
            ]
          },
          "metadata": {},
          "execution_count": 6
        }
      ]
    },
    {
      "cell_type": "code",
      "source": [
        "model = load('drive/MyDrive/EventDetection/saved_models/pytorch_decisiontree')"
      ],
      "metadata": {
        "id": "WdgnFgcZfonJ"
      },
      "execution_count": 15,
      "outputs": []
    },
    {
      "cell_type": "code",
      "source": [
        "# Run predictions on CPU\n",
        "predict_cpu = %timeit -o model.predict(test_run)"
      ],
      "metadata": {
        "colab": {
          "base_uri": "https://localhost:8080/"
        },
        "id": "NZth7B7ihK1U",
        "outputId": "3ebc52d1-e24f-4729-b0e0-d0de4ecc7e8f"
      },
      "execution_count": 21,
      "outputs": [
        {
          "output_type": "stream",
          "name": "stdout",
          "text": [
            "100 loops, best of 5: 6.18 ms per loop\n"
          ]
        }
      ]
    },
    {
      "cell_type": "code",
      "source": [
        "# Run predictions on GPU\n",
        "model.to('cuda')\n",
        "predict_gpu = %timeit -o model.predict(test_run)"
      ],
      "metadata": {
        "colab": {
          "base_uri": "https://localhost:8080/"
        },
        "id": "SbUF0zWChw3v",
        "outputId": "fe74e62c-2ff6-4608-a2a6-abcd18a4c06e"
      },
      "execution_count": 22,
      "outputs": [
        {
          "output_type": "stream",
          "name": "stdout",
          "text": [
            "100 loops, best of 5: 6.15 ms per loop\n"
          ]
        }
      ]
    },
    {
      "cell_type": "code",
      "source": [
        "with open('drive/MyDrive/EventDetection/saved_models/skl_decisiontree.pickle', 'rb') as model:\n",
        "    sk_dt_model = pickle.load(model)"
      ],
      "metadata": {
        "id": "cMm9RrNuh5zc"
      },
      "execution_count": 23,
      "outputs": []
    },
    {
      "cell_type": "code",
      "source": [
        "predicted = %timeit -o sk_dt_model.predict(test_run)"
      ],
      "metadata": {
        "colab": {
          "base_uri": "https://localhost:8080/"
        },
        "id": "cV86T7DRjORA",
        "outputId": "7a43dc7a-ab6d-4b6e-ff33-5dabb3d80ca1"
      },
      "execution_count": 24,
      "outputs": [
        {
          "output_type": "stream",
          "name": "stdout",
          "text": [
            "100 loops, best of 5: 5.74 ms per loop\n"
          ]
        }
      ]
    },
    {
      "cell_type": "code",
      "source": [
        "model = load('drive/MyDrive/EventDetection/saved_models/pytorch_gb')"
      ],
      "metadata": {
        "id": "Inli17pmkABR"
      },
      "execution_count": 25,
      "outputs": []
    },
    {
      "cell_type": "code",
      "source": [
        "# Run predictions on CPU\n",
        "predict_cpu = %timeit -o model.predict(test_run)"
      ],
      "metadata": {
        "colab": {
          "base_uri": "https://localhost:8080/"
        },
        "id": "LB5SJp9QkI5j",
        "outputId": "52af7a1b-b37c-4731-936f-ac7e673d5f95"
      },
      "execution_count": 26,
      "outputs": [
        {
          "output_type": "stream",
          "name": "stdout",
          "text": [
            "100 loops, best of 5: 11.8 ms per loop\n"
          ]
        }
      ]
    },
    {
      "cell_type": "code",
      "source": [
        "# Run predictions on GPU\n",
        "model.to('cuda')\n",
        "predict_gpu = %timeit -o model.predict(test_run)"
      ],
      "metadata": {
        "colab": {
          "base_uri": "https://localhost:8080/"
        },
        "id": "7565O4_pkNAR",
        "outputId": "61822003-fa2e-4dce-fc43-af287520ea9d"
      },
      "execution_count": 27,
      "outputs": [
        {
          "output_type": "stream",
          "name": "stdout",
          "text": [
            "The slowest run took 5.48 times longer than the fastest. This could mean that an intermediate result is being cached.\n",
            "100 loops, best of 5: 6.22 ms per loop\n"
          ]
        }
      ]
    },
    {
      "cell_type": "code",
      "source": [
        "with open('drive/MyDrive/EventDetection/saved_models/skl_gb.pickle', 'rb') as model:\n",
        "    sk_gb_model = pickle.load(model)"
      ],
      "metadata": {
        "id": "6okiyhoLkP6j"
      },
      "execution_count": 30,
      "outputs": []
    },
    {
      "cell_type": "code",
      "source": [
        "predicted = %timeit -o sk_gb_model.predict(test_run)"
      ],
      "metadata": {
        "colab": {
          "base_uri": "https://localhost:8080/"
        },
        "id": "8-ka4cz5kWdO",
        "outputId": "e9bd94f5-66b4-4c3f-ea2f-258b4c31c637"
      },
      "execution_count": 31,
      "outputs": [
        {
          "output_type": "stream",
          "name": "stdout",
          "text": [
            "100 loops, best of 5: 7.77 ms per loop\n"
          ]
        }
      ]
    },
    {
      "cell_type": "code",
      "source": [
        "model = load('drive/MyDrive/EventDetection/saved_models/pytorch_randomforest')"
      ],
      "metadata": {
        "id": "q7ekSotIkmUf"
      },
      "execution_count": 32,
      "outputs": []
    },
    {
      "cell_type": "code",
      "source": [
        "# Run predictions on CPU\n",
        "predict_cpu = %timeit -o model.predict(test_run)"
      ],
      "metadata": {
        "colab": {
          "base_uri": "https://localhost:8080/"
        },
        "id": "_SNZQ0efkzSC",
        "outputId": "e3036f5e-cce7-4f79-a256-9ccb41493fcd"
      },
      "execution_count": 33,
      "outputs": [
        {
          "output_type": "stream",
          "name": "stdout",
          "text": [
            "1 loop, best of 5: 238 ms per loop\n"
          ]
        }
      ]
    },
    {
      "cell_type": "code",
      "source": [
        "# Run predictions on GPU\n",
        "model.to('cuda')\n",
        "predict_gpu = %timeit -o model.predict(test_run)"
      ],
      "metadata": {
        "colab": {
          "base_uri": "https://localhost:8080/"
        },
        "id": "mtGZGNS2k1ul",
        "outputId": "118a08ec-f371-4f17-f725-00017fdb7bd6"
      },
      "execution_count": 34,
      "outputs": [
        {
          "output_type": "stream",
          "name": "stdout",
          "text": [
            "10 loops, best of 5: 31.5 ms per loop\n"
          ]
        }
      ]
    },
    {
      "cell_type": "code",
      "source": [
        "with open('drive/MyDrive/EventDetection/saved_models/skl_randomforest.pickle', 'rb') as model:\n",
        "    sk_rf_model = pickle.load(model)"
      ],
      "metadata": {
        "id": "lZKi5TD-k5ip"
      },
      "execution_count": 35,
      "outputs": []
    },
    {
      "cell_type": "code",
      "source": [
        "predicted = %timeit -o sk_rf_model.predict(test_run)"
      ],
      "metadata": {
        "colab": {
          "base_uri": "https://localhost:8080/"
        },
        "id": "NhV8PrLQlDzp",
        "outputId": "42b00491-fab8-490b-99f8-9abd15126c5e"
      },
      "execution_count": 36,
      "outputs": [
        {
          "output_type": "stream",
          "name": "stdout",
          "text": [
            "10 loops, best of 5: 58.3 ms per loop\n"
          ]
        }
      ]
    }
  ]
}