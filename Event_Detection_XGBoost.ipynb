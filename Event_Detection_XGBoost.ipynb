{
  "nbformat": 4,
  "nbformat_minor": 0,
  "metadata": {
    "colab": {
      "name": "Event Detection XGBoost.ipynb",
      "provenance": [],
      "collapsed_sections": [],
      "machine_shape": "hm"
    },
    "kernelspec": {
      "name": "python3",
      "display_name": "Python 3"
    },
    "language_info": {
      "name": "python"
    }
  },
  "cells": [
    {
      "cell_type": "code",
      "source": [
        "%%capture\n",
        "!pip install xgboost\n",
        "!pip install hummingbird-ml"
      ],
      "metadata": {
        "id": "3kzS2V3dhp1R"
      },
      "execution_count": 14,
      "outputs": []
    },
    {
      "cell_type": "code",
      "execution_count": 2,
      "metadata": {
        "id": "19toTfgAYYRb"
      },
      "outputs": [],
      "source": [
        "import pickle\n",
        "from os import listdir\n",
        "from os.path import isfile, join\n",
        "import numpy as np\n",
        "import xgboost as xgb"
      ]
    },
    {
      "cell_type": "code",
      "source": [
        "from google.colab import drive\n",
        "drive.mount('/content/drive')"
      ],
      "metadata": {
        "colab": {
          "base_uri": "https://localhost:8080/"
        },
        "id": "PyllbjA1YsFv",
        "outputId": "c7f53c3e-2ee9-4877-fed5-a2e6ada6e521"
      },
      "execution_count": 3,
      "outputs": [
        {
          "output_type": "stream",
          "name": "stdout",
          "text": [
            "Mounted at /content/drive\n"
          ]
        }
      ]
    },
    {
      "cell_type": "code",
      "source": [
        "with open('drive/MyDrive/RealLifeViolencePickle/training_violence2.pickle', 'rb') as handle:\n",
        "    training_run2 = pickle.load(handle)\n",
        "with open('drive/MyDrive/RealLifeViolencePickle/training_violence3.pickle', 'rb') as handle:\n",
        "    training_run3 = pickle.load(handle)\n",
        "with open('drive/MyDrive/RealLifeViolencePickle/training_violence4.pickle', 'rb') as handle:\n",
        "    training_run4 = pickle.load(handle)\n",
        "with open('drive/MyDrive/RealLifeViolencePickle/valid_violence.pickle', 'rb') as handle:\n",
        "    allTestingData = pickle.load(handle)"
      ],
      "metadata": {
        "id": "g-Pn8_iCYulS"
      },
      "execution_count": 4,
      "outputs": []
    },
    {
      "cell_type": "code",
      "source": [
        "allTrainingData = np.concatenate([training_run2, training_run3, training_run4])\n",
        "allTrainingData.shape"
      ],
      "metadata": {
        "colab": {
          "base_uri": "https://localhost:8080/"
        },
        "id": "My9g1QhIY2GP",
        "outputId": "60f1ad12-19c9-4132-a48c-e7b13f5d6358"
      },
      "execution_count": 5,
      "outputs": [
        {
          "output_type": "execute_result",
          "data": {
            "text/plain": [
              "(73384, 3780)"
            ]
          },
          "metadata": {},
          "execution_count": 5
        }
      ]
    },
    {
      "cell_type": "code",
      "source": [
        "allTestingData.shape"
      ],
      "metadata": {
        "colab": {
          "base_uri": "https://localhost:8080/"
        },
        "id": "fOhxL814Y6lj",
        "outputId": "414a07a5-fa3a-4e52-99f1-7406fe4212b9"
      },
      "execution_count": 6,
      "outputs": [
        {
          "output_type": "execute_result",
          "data": {
            "text/plain": [
              "(18508, 3780)"
            ]
          },
          "metadata": {},
          "execution_count": 6
        }
      ]
    },
    {
      "cell_type": "code",
      "source": [
        "with open('drive/MyDrive/RealLifeViolencePickle/labels_violence2.pickle', 'rb') as labels:\n",
        "  labels_run2 = pickle.load(labels)\n",
        "with open('drive/MyDrive/RealLifeViolencePickle/labels_violence3.pickle', 'rb') as labels:\n",
        "  labels_run3 = pickle.load(labels)\n",
        "with open('drive/MyDrive/RealLifeViolencePickle/labels_violence4.pickle', 'rb') as labels:\n",
        "  labels_run4 = pickle.load(labels)\n",
        "with open('drive/MyDrive/RealLifeViolencePickle/labels_violence_valid.pickle', 'rb') as labels:\n",
        "  listOfFrameLabelsTest = pickle.load(labels)"
      ],
      "metadata": {
        "id": "USScu4V2Y6uq"
      },
      "execution_count": 7,
      "outputs": []
    },
    {
      "cell_type": "code",
      "source": [
        "listOfFrameLabels = np.concatenate([labels_run2, labels_run3, labels_run4])"
      ],
      "metadata": {
        "id": "7saD0kebZAeG"
      },
      "execution_count": 8,
      "outputs": []
    },
    {
      "cell_type": "code",
      "source": [
        "framesTrain, labelsTrain = allTrainingData, listOfFrameLabels\n",
        "framesTest, labelsTest = allTestingData, listOfFrameLabelsTest"
      ],
      "metadata": {
        "id": "_n3aQwUeZCiE"
      },
      "execution_count": 9,
      "outputs": []
    },
    {
      "cell_type": "code",
      "source": [
        "import xgboost as xgb\n",
        "from sklearn.metrics import classification_report, confusion_matrix\n",
        "from sklearn.metrics import roc_auc_score, accuracy_score\n",
        "\n",
        "xgb_model = xgb.XGBClassifier()\n",
        "xgb_model.fit(training_run2, labels_run2)\n",
        "\n",
        "retrained_model = xgb.XGBClassifier(objective='binary:logistic')\n",
        "retrained_model.fit(training_run3, labels_run3, xgb_model = xgb_model.get_booster())\n",
        "labelPredict = retrained_model.predict(framesTest)\n",
        "print(confusion_matrix(labelsTest, labelPredict))\n",
        "print(classification_report(labelsTest, labelPredict))\n",
        "print('ROC-AUC Score : ', roc_auc_score(labelsTest, labelPredict))\n",
        "print('Total Accuracy: ',accuracy_score(labelsTest,labelPredict))"
      ],
      "metadata": {
        "colab": {
          "base_uri": "https://localhost:8080/"
        },
        "id": "HI7waYCcaP3Y",
        "outputId": "044f7a46-ce43-4dc6-b791-e978ccdab262"
      },
      "execution_count": 10,
      "outputs": [
        {
          "output_type": "stream",
          "name": "stdout",
          "text": [
            "[[8692    0]\n",
            " [1533 8283]]\n",
            "              precision    recall  f1-score   support\n",
            "\n",
            "           0       0.85      1.00      0.92      8692\n",
            "           1       1.00      0.84      0.92      9816\n",
            "\n",
            "    accuracy                           0.92     18508\n",
            "   macro avg       0.93      0.92      0.92     18508\n",
            "weighted avg       0.93      0.92      0.92     18508\n",
            "\n",
            "ROC-AUC Score :  0.9219132029339854\n",
            "Total Accuracy:  0.9171709531013615\n"
          ]
        }
      ]
    },
    {
      "cell_type": "code",
      "source": [
        "final_model = xgb.XGBClassifier(objective='binary:logistic')\n",
        "final_model.fit(training_run4, labels_run4, xgb_model = retrained_model.get_booster())\n",
        "labelPredict = final_model.predict(framesTest)\n",
        "print(confusion_matrix(labelsTest, labelPredict))\n",
        "print(classification_report(labelsTest, labelPredict))\n",
        "print('ROC-AUC Score : ', roc_auc_score(labelsTest, labelPredict))\n",
        "print('Total Accuracy: ',accuracy_score(labelsTest,labelPredict))"
      ],
      "metadata": {
        "colab": {
          "base_uri": "https://localhost:8080/"
        },
        "id": "_WoX2d6EeuqU",
        "outputId": "8180688a-b36a-4c02-9107-4034cb536380"
      },
      "execution_count": 12,
      "outputs": [
        {
          "output_type": "stream",
          "name": "stdout",
          "text": [
            "[[8207  485]\n",
            " [ 517 9299]]\n",
            "              precision    recall  f1-score   support\n",
            "\n",
            "           0       0.94      0.94      0.94      8692\n",
            "           1       0.95      0.95      0.95      9816\n",
            "\n",
            "    accuracy                           0.95     18508\n",
            "   macro avg       0.95      0.95      0.95     18508\n",
            "weighted avg       0.95      0.95      0.95     18508\n",
            "\n",
            "ROC-AUC Score :  0.9457662265013571\n",
            "Total Accuracy:  0.9458612491895396\n"
          ]
        }
      ]
    },
    {
      "cell_type": "code",
      "source": [
        "with open('drive/MyDrive/EventDetection/saved_models/skl_xgboost.pickle', 'wb')as saved:\n",
        "    pickle.dump(final_model, saved, protocol=pickle.HIGHEST_PROTOCOL)"
      ],
      "metadata": {
        "id": "7NuiV8-lzaPO"
      },
      "execution_count": 13,
      "outputs": []
    },
    {
      "cell_type": "code",
      "source": [
        "from hummingbird.ml import convert,load\n",
        "# Use Hummingbird to convert the model to PyTorch\n",
        "model = convert(final_model, 'pytorch')\n",
        "# Save the model\n",
        "model.save('drive/MyDrive/EventDetection/saved_models/pytorch_xgboost')"
      ],
      "metadata": {
        "id": "huphk70u2ybZ"
      },
      "execution_count": 16,
      "outputs": []
    }
  ]
}