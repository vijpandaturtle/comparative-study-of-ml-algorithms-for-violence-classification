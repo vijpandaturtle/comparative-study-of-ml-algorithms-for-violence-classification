{
 "cells": [
  {
   "cell_type": "code",
   "execution_count": 2,
   "id": "7b015a1f-49a6-4f61-a258-0c477c36a0d3",
   "metadata": {},
   "outputs": [
    {
     "ename": "ModuleNotFoundError",
     "evalue": "No module named 'cv2'",
     "output_type": "error",
     "traceback": [
      "\u001b[1;31m---------------------------------------------------------------------------\u001b[0m",
      "\u001b[1;31mModuleNotFoundError\u001b[0m                       Traceback (most recent call last)",
      "\u001b[1;32m~\\AppData\\Local\\Temp/ipykernel_12408/2763387386.py\u001b[0m in \u001b[0;36m<module>\u001b[1;34m\u001b[0m\n\u001b[0;32m      1\u001b[0m \u001b[1;32mimport\u001b[0m \u001b[0mnumpy\u001b[0m \u001b[1;32mas\u001b[0m \u001b[0mnp\u001b[0m\u001b[1;33m\u001b[0m\u001b[1;33m\u001b[0m\u001b[0m\n\u001b[0;32m      2\u001b[0m \u001b[1;32mimport\u001b[0m \u001b[0mos\u001b[0m\u001b[1;33m\u001b[0m\u001b[1;33m\u001b[0m\u001b[0m\n\u001b[1;32m----> 3\u001b[1;33m \u001b[1;32mimport\u001b[0m \u001b[0mcv2\u001b[0m\u001b[1;33m\u001b[0m\u001b[1;33m\u001b[0m\u001b[0m\n\u001b[0m\u001b[0;32m      4\u001b[0m \u001b[1;32mimport\u001b[0m \u001b[0mmatplotlib\u001b[0m\u001b[1;33m.\u001b[0m\u001b[0mpyplot\u001b[0m \u001b[1;32mas\u001b[0m \u001b[0mplt\u001b[0m\u001b[1;33m\u001b[0m\u001b[1;33m\u001b[0m\u001b[0m\n\u001b[0;32m      5\u001b[0m \u001b[1;32mfrom\u001b[0m \u001b[0mskimage\u001b[0m\u001b[1;33m.\u001b[0m\u001b[0mfeature\u001b[0m \u001b[1;32mimport\u001b[0m \u001b[0mhog\u001b[0m\u001b[1;33m\u001b[0m\u001b[1;33m\u001b[0m\u001b[0m\n",
      "\u001b[1;31mModuleNotFoundError\u001b[0m: No module named 'cv2'"
     ]
    }
   ],
   "source": [
    "import numpy as np\n",
    "import os\n",
    "import cv2\n",
    "import matplotlib.pyplot as plt\n",
    "from skimage.feature import hog\n",
    "from skimage import data, exposure\n",
    "from pathlib import Path\n",
    "import tensorflow as tf\n",
    "import pandas as pd\n",
    "from os import listdir\n",
    "from os.path import isfile, join\n",
    "from sklearn import svm\n",
    "from sklearn.model_selection import train_test_split\n",
    "from sklearn.svm import LinearSVC\n",
    "from sklearn.metrics import classification_report, confusion_matrix, accuracy_score\n",
    "from sklearn.multiclass import OneVsRestClassifier\n",
    "from sklearn.neighbors import KNeighborsClassifier\n",
    "import math\n",
    "import itertools\n",
    "import pickle"
   ]
  },
  {
   "cell_type": "code",
   "execution_count": null,
   "id": "11996cfe-55e8-448a-8c6e-255b52890938",
   "metadata": {},
   "outputs": [],
   "source": [
    "listOfVideoPaths = [] #carrying paths of all videos\n",
    "videoCount = 0  # Count of all videos\n",
    "videoFrames = [] #carrying all frames of the all videos\n",
    "listOfHistograms = [] #carrying list of histograms for each cell\n",
    "featureVector = [] #carrying feature vectors of each frame\n",
    "listOfFeatureVectors = [] #carrying feature vectors of all frames - divided\n",
    "listOfFrameLabels = []  #carrying label of each frame\n",
    "folderIndex = 0 #carrying the index of each folder to use it as a label for each frame"
   ]
  },
  {
   "cell_type": "code",
   "execution_count": null,
   "id": "816fddcd-1e0d-4566-bd94-e38a2bd0facd",
   "metadata": {},
   "outputs": [],
   "source": [
    "#Takes one frame as parameter\n",
    "#Returns the feature vector of that frame\n",
    "hog = cv2.HOGDescriptor()\n",
    "\n",
    "#Window size 8*8\n",
    "windowsize_height = 8\n",
    "windowsize_width = 8\n",
    "\n",
    "#Histogram Bins\n",
    "histogramBins = [0,20,40,60,80,100,120,140,160]"
   ]
  },
  {
   "cell_type": "code",
   "execution_count": null,
   "id": "00b882de-d03b-4cc8-a924-ac3a0557d833",
   "metadata": {},
   "outputs": [],
   "source": [
    "#Getting index of an angle inside the bin\n",
    "def get_indicies(number):\n",
    "    min = 0\n",
    "    max = 0\n",
    "\n",
    "    if number > 360:\n",
    "      number = number - 360\n",
    "\n",
    "    if number > 180 and number < 360:\n",
    "      number = number-180\n",
    "\n",
    "    if number > 160 and number < 180:\n",
    "      min = 160\n",
    "      max = 0\n",
    "      return min, max\n",
    "\n",
    "    # check max\n",
    "    for i in range(0,160,20):\n",
    "      if number >  i:\n",
    "        min = i\n",
    "        max = i + 20\n",
    "      \n",
    "    return min, max"
   ]
  },
  {
   "cell_type": "code",
   "execution_count": null,
   "id": "6c69251a-5197-48b8-84e7-6d41e0e5581f",
   "metadata": {},
   "outputs": [],
   "source": [
    "#Fills the \"listOfVideoPaths\" with the paths of all videos - No reading done yet\n",
    "dataSetPath = 'VisionDataSet/'\n",
    "#creates a list of folders inside the \"VisionDataSet\" folder\n",
    "#folders that are containing the training video data\n",
    "folders = [f for f in listdir(dataSetPath) if not isfile(join(dataSetPath, f))]\n",
    "#Fills the \"listOfVideoPaths\" with paths of all the videos in the dataset\n",
    "for folder in folders:\n",
    "    listOfVideoPaths.append([dataSetPath+folder+'/'+ f for f in listdir(dataSetPath+folder) if isfile(join(dataSetPath+folder, f))])\n",
    "for folder in listOfVideoPaths:\n",
    "  videoCount+= len(folder)\n",
    "print(\"Video Count = \", videoCount)"
   ]
  },
  {
   "cell_type": "code",
   "execution_count": null,
   "id": "ace0fa76-218b-4218-8dec-18252e659c87",
   "metadata": {},
   "outputs": [],
   "source": []
  }
 ],
 "metadata": {
  "kernelspec": {
   "display_name": "Python 3 (ipykernel)",
   "language": "python",
   "name": "python3"
  },
  "language_info": {
   "codemirror_mode": {
    "name": "ipython",
    "version": 3
   },
   "file_extension": ".py",
   "mimetype": "text/x-python",
   "name": "python",
   "nbconvert_exporter": "python",
   "pygments_lexer": "ipython3",
   "version": "3.8.12"
  }
 },
 "nbformat": 4,
 "nbformat_minor": 5
}
