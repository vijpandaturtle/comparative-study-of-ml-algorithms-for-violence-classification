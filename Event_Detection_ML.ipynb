{
  "nbformat": 4,
  "nbformat_minor": 0,
  "metadata": {
    "colab": {
      "name": "Event Detection ML.ipynb",
      "provenance": [],
      "collapsed_sections": []
    },
    "kernelspec": {
      "name": "python3",
      "display_name": "Python 3"
    },
    "language_info": {
      "name": "python"
    }
  },
  "cells": [
    {
      "cell_type": "code",
      "metadata": {
        "id": "452LVDRcPhHz"
      },
      "source": [
        "from os import listdir\n",
        "from os.path import isfile, join\n",
        "from sklearn import svm\n",
        "from sklearn.model_selection import train_test_split\n",
        "from sklearn.svm import LinearSVC\n",
        "from sklearn.metrics import classification_report, confusion_matrix, accuracy_score\n",
        "from sklearn.multiclass import OneVsRestClassifier\n",
        "from sklearn.neighbors import KNeighborsClassifier\n",
        "from sklearn.linear_model import LogisticRegression\n",
        "from sklearn.tree import DecisionTreeClassifier\n",
        "from sklearn.discriminant_analysis import LinearDiscriminantAnalysis\n",
        "import pickle"
      ],
      "execution_count": 2,
      "outputs": []
    },
    {
      "cell_type": "code",
      "metadata": {
        "colab": {
          "base_uri": "https://localhost:8080/"
        },
        "id": "QofPZmRHSuom",
        "outputId": "c6d0bb34-5b7d-4e71-8ddd-82fc364a6583"
      },
      "source": [
        "from google.colab import drive\n",
        "drive.mount('/content/drive')"
      ],
      "execution_count": 3,
      "outputs": [
        {
          "output_type": "stream",
          "name": "stdout",
          "text": [
            "Mounted at /content/drive\n"
          ]
        }
      ]
    },
    {
      "cell_type": "code",
      "metadata": {
        "id": "o9lJ74PsQANE"
      },
      "source": [
        "with open('drive/MyDrive/EventDetection/violence-detection-dataset/training_violence.pickle', 'rb') as handle:\n",
        "    allTrainingData = pickle.load(handle)"
      ],
      "execution_count": 4,
      "outputs": []
    },
    {
      "cell_type": "code",
      "source": [
        "with open('drive/MyDrive/EventDetection/violence-detection-dataset/labels_violence.pickle', 'rb') as labels:\n",
        "    listOfFrameLabels = pickle.load(labels)"
      ],
      "metadata": {
        "id": "iltg6qHJVcUA"
      },
      "execution_count": 5,
      "outputs": []
    },
    {
      "cell_type": "code",
      "metadata": {
        "colab": {
          "base_uri": "https://localhost:8080/"
        },
        "id": "kaTzxHMhQF3o",
        "outputId": "0e8e881a-71df-4009-c6eb-873f6031e261"
      },
      "source": [
        "framesTrain, framesTest, labelsTrain, labelsTest = train_test_split(allTrainingData, listOfFrameLabels, test_size= 0.30)\n",
        "svcClassifier = LinearSVC(random_state=0)\n",
        "svcClassifier.fit(framesTrain,labelsTrain)\n",
        "labelPredict = svcClassifier.predict(framesTest)\n",
        "print(\"---------------SVM---------------\")\n",
        "print(confusion_matrix(labelsTest, labelPredict))  \n",
        "print(classification_report(labelsTest, labelPredict)) \n",
        "print('Total Accuracy: ',accuracy_score(labelsTest,labelPredict))"
      ],
      "execution_count": 6,
      "outputs": [
        {
          "output_type": "stream",
          "name": "stdout",
          "text": [
            "---------------SVM---------------\n",
            "[[ 969   11]\n",
            " [  44 1969]]\n",
            "              precision    recall  f1-score   support\n",
            "\n",
            "           0       0.96      0.99      0.97       980\n",
            "           1       0.99      0.98      0.99      2013\n",
            "\n",
            "    accuracy                           0.98      2993\n",
            "   macro avg       0.98      0.98      0.98      2993\n",
            "weighted avg       0.98      0.98      0.98      2993\n",
            "\n",
            "Total Accuracy:  0.9816237888406282\n"
          ]
        },
        {
          "output_type": "stream",
          "name": "stderr",
          "text": [
            "/usr/local/lib/python3.7/dist-packages/sklearn/svm/_base.py:1208: ConvergenceWarning: Liblinear failed to converge, increase the number of iterations.\n",
            "  ConvergenceWarning,\n"
          ]
        }
      ]
    },
    {
      "cell_type": "code",
      "source": [
        "print(\"---------------KNN---------------\")\n",
        "neigh = KNeighborsClassifier(n_neighbors=5)\n",
        "neigh.fit(framesTrain, labelsTrain)\n",
        "labelPredict = neigh.predict(framesTest)\n",
        "print(confusion_matrix(labelsTest, labelPredict))\n",
        "print(classification_report(labelsTest, labelPredict))\n",
        "print('Total Accuracy: ',accuracy_score(labelsTest,labelPredict))"
      ],
      "metadata": {
        "colab": {
          "base_uri": "https://localhost:8080/"
        },
        "id": "4CBxPXuYWEy4",
        "outputId": "518caac6-7518-476e-80b3-b9944c3098b2"
      },
      "execution_count": 7,
      "outputs": [
        {
          "output_type": "stream",
          "name": "stdout",
          "text": [
            "---------------KNN---------------\n",
            "[[ 973    7]\n",
            " [ 114 1899]]\n",
            "              precision    recall  f1-score   support\n",
            "\n",
            "           0       0.90      0.99      0.94       980\n",
            "           1       1.00      0.94      0.97      2013\n",
            "\n",
            "    accuracy                           0.96      2993\n",
            "   macro avg       0.95      0.97      0.96      2993\n",
            "weighted avg       0.96      0.96      0.96      2993\n",
            "\n",
            "Total Accuracy:  0.9595723354493819\n"
          ]
        }
      ]
    },
    {
      "cell_type": "code",
      "source": [
        "print(\"---------------Logistic Regression---------------\")\n",
        "logreg = LogisticRegression()\n",
        "logreg.fit(framesTrain, labelsTrain)\n",
        "labelPredict = logreg.predict(framesTest)\n",
        "print(confusion_matrix(labelsTest, labelPredict))\n",
        "print(classification_report(labelsTest, labelPredict))\n",
        "print('Total Accuracy: ',accuracy_score(labelsTest,labelPredict))"
      ],
      "metadata": {
        "colab": {
          "base_uri": "https://localhost:8080/"
        },
        "id": "EpCSSq2ZyvBT",
        "outputId": "425bd3e9-49d3-462d-b1d7-1944e0800ff5"
      },
      "execution_count": 8,
      "outputs": [
        {
          "output_type": "stream",
          "name": "stdout",
          "text": [
            "[[ 937   43]\n",
            " [  44 1969]]\n",
            "              precision    recall  f1-score   support\n",
            "\n",
            "           0       0.96      0.96      0.96       980\n",
            "           1       0.98      0.98      0.98      2013\n",
            "\n",
            "    accuracy                           0.97      2993\n",
            "   macro avg       0.97      0.97      0.97      2993\n",
            "weighted avg       0.97      0.97      0.97      2993\n",
            "\n",
            "Total Accuracy:  0.9709321750751754\n"
          ]
        },
        {
          "output_type": "stream",
          "name": "stderr",
          "text": [
            "/usr/local/lib/python3.7/dist-packages/sklearn/linear_model/_logistic.py:818: ConvergenceWarning: lbfgs failed to converge (status=1):\n",
            "STOP: TOTAL NO. of ITERATIONS REACHED LIMIT.\n",
            "\n",
            "Increase the number of iterations (max_iter) or scale the data as shown in:\n",
            "    https://scikit-learn.org/stable/modules/preprocessing.html\n",
            "Please also refer to the documentation for alternative solver options:\n",
            "    https://scikit-learn.org/stable/modules/linear_model.html#logistic-regression\n",
            "  extra_warning_msg=_LOGISTIC_SOLVER_CONVERGENCE_MSG,\n"
          ]
        }
      ]
    },
    {
      "cell_type": "code",
      "source": [
        "print(\"---------------Decision Tree---------------\")\n",
        "clf_model = DecisionTreeClassifier(criterion=\"gini\", random_state=42,max_depth=3, min_samples_leaf=5)   \n",
        "clf_model.fit(framesTrain, labelsTrain)\n",
        "labelPredict = clf_model.predict(framesTest)\n",
        "print(confusion_matrix(labelsTest, labelPredict))\n",
        "print(classification_report(labelsTest, labelPredict))\n",
        "print('Total Accuracy: ',accuracy_score(labelsTest,labelPredict))"
      ],
      "metadata": {
        "colab": {
          "base_uri": "https://localhost:8080/"
        },
        "id": "FcwrNYLu7ei6",
        "outputId": "9ddc2d91-7540-4e9e-a6cd-4af7ca122921"
      },
      "execution_count": 10,
      "outputs": [
        {
          "output_type": "stream",
          "name": "stdout",
          "text": [
            "[[ 893   87]\n",
            " [ 128 1885]]\n",
            "              precision    recall  f1-score   support\n",
            "\n",
            "           0       0.87      0.91      0.89       980\n",
            "           1       0.96      0.94      0.95      2013\n",
            "\n",
            "    accuracy                           0.93      2993\n",
            "   macro avg       0.92      0.92      0.92      2993\n",
            "weighted avg       0.93      0.93      0.93      2993\n",
            "\n",
            "Total Accuracy:  0.9281657200133645\n"
          ]
        }
      ]
    },
    {
      "cell_type": "code",
      "source": [
        "print(\"---------------LDA---------------\")\n",
        "clf = LinearDiscriminantAnalysis()\n",
        "clf.fit(framesTrain, labelsTrain)\n",
        "labelPredict = clf.predict(framesTest)\n",
        "print(confusion_matrix(labelsTest, labelPredict))\n",
        "print(classification_report(labelsTest, labelPredict))\n",
        "print('Total Accuracy: ',accuracy_score(labelsTest,labelPredict))"
      ],
      "metadata": {
        "colab": {
          "base_uri": "https://localhost:8080/"
        },
        "id": "XiSy6F228HeP",
        "outputId": "e5b91e34-6651-4071-a641-acef55c985e5"
      },
      "execution_count": 11,
      "outputs": [
        {
          "output_type": "stream",
          "name": "stdout",
          "text": [
            "[[ 942   38]\n",
            " [  40 1973]]\n",
            "              precision    recall  f1-score   support\n",
            "\n",
            "           0       0.96      0.96      0.96       980\n",
            "           1       0.98      0.98      0.98      2013\n",
            "\n",
            "    accuracy                           0.97      2993\n",
            "   macro avg       0.97      0.97      0.97      2993\n",
            "weighted avg       0.97      0.97      0.97      2993\n",
            "\n",
            "Total Accuracy:  0.973939191446709\n"
          ]
        }
      ]
    },
    {
      "cell_type": "code",
      "source": [
        "from sklearn.ensemble import GradientBoostingClassifier\n",
        "gb_clf = GradientBoostingClassifier(n_estimators=20, learning_rate=0.1, max_features=2, max_depth=2, random_state=0)\n",
        "gb_clf.fit(framesTrain, labelsTrain)\n",
        "labelPredict = gb_clf.predict(framesTest)\n",
        "print(confusion_matrix(labelsTest, labelPredict))\n",
        "print(classification_report(labelsTest, labelPredict))\n",
        "print('Total Accuracy: ',accuracy_score(labelsTest,labelPredict))"
      ],
      "metadata": {
        "colab": {
          "base_uri": "https://localhost:8080/"
        },
        "id": "pmxFdBWUJ2HX",
        "outputId": "98aaa4ae-a204-4dda-ca42-8bdc05ca0d31"
      },
      "execution_count": 14,
      "outputs": [
        {
          "output_type": "stream",
          "name": "stdout",
          "text": [
            "[[ 943   37]\n",
            " [ 320 1693]]\n",
            "              precision    recall  f1-score   support\n",
            "\n",
            "           0       0.75      0.96      0.84       980\n",
            "           1       0.98      0.84      0.90      2013\n",
            "\n",
            "    accuracy                           0.88      2993\n",
            "   macro avg       0.86      0.90      0.87      2993\n",
            "weighted avg       0.90      0.88      0.88      2993\n",
            "\n",
            "Total Accuracy:  0.880721683929168\n"
          ]
        }
      ]
    },
    {
      "cell_type": "code",
      "source": [
        "from sklearn.ensemble import RandomForestClassifier\n",
        "clf=RandomForestClassifier(n_estimators=100)\n",
        "clf.fit(framesTrain, labelsTrain)\n",
        "labelPredict = clf.predict(framesTest)\n",
        "print(confusion_matrix(labelsTest, labelPredict))\n",
        "print(classification_report(labelsTest, labelPredict))\n",
        "print('Total Accuracy: ',accuracy_score(labelsTest,labelPredict))"
      ],
      "metadata": {
        "colab": {
          "base_uri": "https://localhost:8080/"
        },
        "id": "quZyd5RvLu4V",
        "outputId": "48c740c1-d715-4bbf-c3fb-c1eb576170e2"
      },
      "execution_count": 15,
      "outputs": [
        {
          "output_type": "stream",
          "name": "stdout",
          "text": [
            "[[ 961   19]\n",
            " [  13 2000]]\n",
            "              precision    recall  f1-score   support\n",
            "\n",
            "           0       0.99      0.98      0.98       980\n",
            "           1       0.99      0.99      0.99      2013\n",
            "\n",
            "    accuracy                           0.99      2993\n",
            "   macro avg       0.99      0.99      0.99      2993\n",
            "weighted avg       0.99      0.99      0.99      2993\n",
            "\n",
            "Total Accuracy:  0.9893083862345473\n"
          ]
        }
      ]
    },
    {
      "cell_type": "code",
      "source": [
        ""
      ],
      "metadata": {
        "id": "dNWrzPl8NGbO"
      },
      "execution_count": null,
      "outputs": []
    }
  ]
}