{
  "nbformat": 4,
  "nbformat_minor": 0,
  "metadata": {
    "colab": {
      "name": "Event Detection ML Kaggle Hummingbird Tree based & Ensemble.ipynb",
      "provenance": [],
      "collapsed_sections": []
    },
    "kernelspec": {
      "name": "python3",
      "display_name": "Python 3"
    },
    "language_info": {
      "name": "python"
    },
    "accelerator": "GPU"
  },
  "cells": [
    {
      "cell_type": "code",
      "source": [
        "%%capture\n",
        "!pip install hummingbird-ml\n",
        "!sudo pip install xgboost\n",
        "!pip install optuna"
      ],
      "metadata": {
        "id": "-L5F4lpz85oq"
      },
      "execution_count": 4,
      "outputs": []
    },
    {
      "cell_type": "code",
      "metadata": {
        "id": "452LVDRcPhHz",
        "colab": {
          "base_uri": "https://localhost:8080/"
        },
        "outputId": "c012ca47-6d6e-4265-c240-c08041870722"
      },
      "source": [
        "import pickle\n",
        "from os import listdir\n",
        "from os.path import isfile, join\n",
        "import numpy as np\n",
        "\n",
        "from sklearn.model_selection import train_test_split\n",
        "from sklearn.metrics import classification_report, confusion_matrix\n",
        "from sklearn.metrics import roc_auc_score, accuracy_score\n",
        "\n",
        "from hummingbird.ml import convert,load"
      ],
      "execution_count": 5,
      "outputs": [
        {
          "output_type": "stream",
          "name": "stderr",
          "text": [
            "/usr/local/lib/python3.7/dist-packages/sklearn/experimental/enable_hist_gradient_boosting.py:17: UserWarning: Since version 1.0, it is not needed to import enable_hist_gradient_boosting anymore. HistGradientBoostingClassifier and HistGradientBoostingRegressor are now stable and can be normally imported from sklearn.ensemble.\n",
            "  \"Since version 1.0, \"\n"
          ]
        }
      ]
    },
    {
      "cell_type": "code",
      "metadata": {
        "colab": {
          "base_uri": "https://localhost:8080/"
        },
        "id": "QofPZmRHSuom",
        "outputId": "8a61c3af-b37c-4256-8ff2-304ba76ae2d8"
      },
      "source": [
        "from google.colab import drive\n",
        "drive.mount('/content/drive')"
      ],
      "execution_count": 6,
      "outputs": [
        {
          "output_type": "stream",
          "name": "stdout",
          "text": [
            "Mounted at /content/drive\n"
          ]
        }
      ]
    },
    {
      "cell_type": "code",
      "metadata": {
        "id": "o9lJ74PsQANE"
      },
      "source": [
        "with open('drive/MyDrive/RealLifeViolencePickle/training_violence2.pickle', 'rb') as handle:\n",
        "    training_run2 = pickle.load(handle)\n",
        "with open('drive/MyDrive/RealLifeViolencePickle/training_violence3.pickle', 'rb') as handle:\n",
        "    training_run3 = pickle.load(handle)\n",
        "with open('drive/MyDrive/RealLifeViolencePickle/training_violence4.pickle', 'rb') as handle:\n",
        "    training_run4 = pickle.load(handle)\n",
        "with open('drive/MyDrive/RealLifeViolencePickle/valid_violence.pickle', 'rb') as handle:\n",
        "    allTestingData = pickle.load(handle)"
      ],
      "execution_count": 7,
      "outputs": []
    },
    {
      "cell_type": "code",
      "source": [
        "allTrainingData = np.concatenate([training_run2, training_run3, training_run4])"
      ],
      "metadata": {
        "id": "Z3qZHMu2ARJg"
      },
      "execution_count": 8,
      "outputs": []
    },
    {
      "cell_type": "code",
      "source": [
        "allTrainingData.shape"
      ],
      "metadata": {
        "colab": {
          "base_uri": "https://localhost:8080/"
        },
        "id": "QhdEIiqRai3T",
        "outputId": "3f014c18-963d-49b5-d38b-6a98a3ad9068"
      },
      "execution_count": 9,
      "outputs": [
        {
          "output_type": "execute_result",
          "data": {
            "text/plain": [
              "(73384, 3780)"
            ]
          },
          "metadata": {},
          "execution_count": 9
        }
      ]
    },
    {
      "cell_type": "code",
      "source": [
        "allTestingData.shape"
      ],
      "metadata": {
        "colab": {
          "base_uri": "https://localhost:8080/"
        },
        "id": "9Uj-CXJ_mHay",
        "outputId": "c6a11918-e33a-4327-f4b0-86181542fae7"
      },
      "execution_count": 10,
      "outputs": [
        {
          "output_type": "execute_result",
          "data": {
            "text/plain": [
              "(18508, 3780)"
            ]
          },
          "metadata": {},
          "execution_count": 10
        }
      ]
    },
    {
      "cell_type": "code",
      "source": [
        "with open('drive/MyDrive/RealLifeViolencePickle/labels_violence2.pickle', 'rb') as labels:\n",
        "  labels_run2 = pickle.load(labels)\n",
        "with open('drive/MyDrive/RealLifeViolencePickle/labels_violence3.pickle', 'rb') as labels:\n",
        "  labels_run3 = pickle.load(labels)\n",
        "with open('drive/MyDrive/RealLifeViolencePickle/labels_violence4.pickle', 'rb') as labels:\n",
        "  labels_run4 = pickle.load(labels)\n",
        "with open('drive/MyDrive/RealLifeViolencePickle/labels_violence_valid.pickle', 'rb') as labels:\n",
        "  listOfFrameLabelsTest = pickle.load(labels)"
      ],
      "metadata": {
        "id": "iltg6qHJVcUA"
      },
      "execution_count": 11,
      "outputs": []
    },
    {
      "cell_type": "code",
      "source": [
        "listOfFrameLabels = np.concatenate([labels_run2, labels_run3, labels_run4])"
      ],
      "metadata": {
        "id": "G6or7YTFBZaP"
      },
      "execution_count": 12,
      "outputs": []
    },
    {
      "cell_type": "code",
      "source": [
        "framesTrain, labelsTrain = allTrainingData, listOfFrameLabels\n",
        "framesTest, labelsTest = allTestingData, listOfFrameLabelsTest"
      ],
      "metadata": {
        "id": "AhYZ0ZWNPccn"
      },
      "execution_count": 13,
      "outputs": []
    },
    {
      "cell_type": "markdown",
      "source": [
        "## Decision Tree"
      ],
      "metadata": {
        "id": "dk_uVUK1-4SO"
      }
    },
    {
      "cell_type": "code",
      "source": [
        "print(\"---------------Decision Tree---------------\")\n",
        "from sklearn.tree import DecisionTreeClassifier\n",
        "clf_model = DecisionTreeClassifier(criterion=\"gini\", random_state=42,max_depth=3, min_samples_leaf=5)   \n",
        "clf_model.fit(framesTrain, labelsTrain)\n",
        "labelPredict = clf_model.predict(framesTest)\n",
        "print(confusion_matrix(labelsTest, labelPredict))\n",
        "print(classification_report(labelsTest, labelPredict))\n",
        "print('ROC-AUC Score : ', roc_auc_score(labelsTest, labelPredict))\n",
        "print('Total Accuracy: ',accuracy_score(labelsTest,labelPredict))"
      ],
      "metadata": {
        "colab": {
          "base_uri": "https://localhost:8080/"
        },
        "id": "FcwrNYLu7ei6",
        "outputId": "cb80eaf2-578a-4ec1-956d-4b95bb16b1e8"
      },
      "execution_count": null,
      "outputs": [
        {
          "output_type": "stream",
          "name": "stdout",
          "text": [
            "---------------Decision Tree---------------\n",
            "[[8676   16]\n",
            " [ 899 8917]]\n",
            "              precision    recall  f1-score   support\n",
            "\n",
            "           0       0.91      1.00      0.95      8692\n",
            "           1       1.00      0.91      0.95      9816\n",
            "\n",
            "    accuracy                           0.95     18508\n",
            "   macro avg       0.95      0.95      0.95     18508\n",
            "weighted avg       0.95      0.95      0.95     18508\n",
            "\n",
            "ROC-AUC Score :  0.9532870299005615\n",
            "Total Accuracy:  0.9505619191700886\n"
          ]
        }
      ]
    },
    {
      "cell_type": "code",
      "source": [
        "# from sklearn.tree import DecisionTreeClassifier\n",
        "# def objective(trial):\n",
        "#     max_depth = trial.suggest_int(\"max_depth\", 2, 612)\n",
        "#     min_samples_split = trial.suggest_int(\"min_samples_split\", 2, 612)\n",
        "#     max_leaf_nodes = int(trial.suggest_int(\"max_leaf_nodes\", 2, 612))\n",
        "#     criterion = trial.suggest_categorical(\"criterion\", [\"gini\", \"entropy\"])\n",
        "    \n",
        "#     DTC = DecisionTreeClassifier(min_samples_split = min_samples_split, \n",
        "#                                 max_leaf_nodes = max_leaf_nodes,\n",
        "#                                 criterion = criterion)\n",
        "#     DTC.fit(framesTrain, labelsTrain)\n",
        "#     return 1.0 - accuracy_score(labelsTest, DTC.predict(framesTest))"
      ],
      "metadata": {
        "id": "KpOaZaWgLVcj"
      },
      "execution_count": null,
      "outputs": []
    },
    {
      "cell_type": "code",
      "source": [
        "with open('drive/MyDrive/EventDetection/saved_models/skl_decisiontree.pickle', 'wb')as saved:\n",
        "    pickle.dump(clf_model, saved, protocol=pickle.HIGHEST_PROTOCOL)"
      ],
      "metadata": {
        "id": "NYk-7xskAMYu"
      },
      "execution_count": null,
      "outputs": []
    },
    {
      "cell_type": "code",
      "source": [
        "# Use Hummingbird to convert the model to PyTorch\n",
        "model = convert(clf_model, 'pytorch')\n",
        "# Save the model\n",
        "model.save('drive/MyDrive/EventDetection/saved_models/pytorch_decisiontree')"
      ],
      "metadata": {
        "colab": {
          "base_uri": "https://localhost:8080/"
        },
        "id": "HBZos0F5w99t",
        "outputId": "836aa8ce-285d-4a93-a3ff-1a0d9e32af9c"
      },
      "execution_count": null,
      "outputs": [
        {
          "output_type": "stream",
          "name": "stderr",
          "text": [
            "/usr/local/lib/python3.7/dist-packages/sklearn/utils/deprecation.py:103: FutureWarning: The attribute `n_features_` is deprecated in 1.0 and will be removed in 1.2. Use `n_features_in_` instead.\n",
            "  warnings.warn(msg, category=FutureWarning)\n"
          ]
        }
      ]
    },
    {
      "cell_type": "markdown",
      "source": [
        "## Gradient Boosting"
      ],
      "metadata": {
        "id": "Ta-YXZUg_ApP"
      }
    },
    {
      "cell_type": "code",
      "source": [
        "from sklearn.ensemble import GradientBoostingClassifier\n",
        "gb_clf = GradientBoostingClassifier(n_estimators=20, learning_rate=0.1, max_features=2, max_depth=2, random_state=0)\n",
        "gb_clf.fit(framesTrain, labelsTrain)\n",
        "labelPredict = gb_clf.predict(framesTest)\n",
        "print(confusion_matrix(labelsTest, labelPredict))\n",
        "print(classification_report(labelsTest, labelPredict))\n",
        "print('ROC-AUC Score : ', roc_auc_score(labelsTest, labelPredict))\n",
        "print('Total Accuracy: ',accuracy_score(labelsTest,labelPredict))"
      ],
      "metadata": {
        "colab": {
          "base_uri": "https://localhost:8080/"
        },
        "id": "pmxFdBWUJ2HX",
        "outputId": "b1ce4389-dacc-4f8e-a852-1c1240051930"
      },
      "execution_count": null,
      "outputs": [
        {
          "output_type": "stream",
          "name": "stdout",
          "text": [
            "[[8692    0]\n",
            " [ 604 9212]]\n",
            "              precision    recall  f1-score   support\n",
            "\n",
            "           0       0.94      1.00      0.97      8692\n",
            "           1       1.00      0.94      0.97      9816\n",
            "\n",
            "    accuracy                           0.97     18508\n",
            "   macro avg       0.97      0.97      0.97     18508\n",
            "weighted avg       0.97      0.97      0.97     18508\n",
            "\n",
            "ROC-AUC Score :  0.9692339038304809\n",
            "Total Accuracy:  0.9673654635833153\n"
          ]
        }
      ]
    },
    {
      "cell_type": "code",
      "source": [
        "with open('drive/MyDrive/EventDetection/saved_models/skl_gb.pickle', 'wb')as saved:\n",
        "    pickle.dump(gb_clf, saved, protocol=pickle.HIGHEST_PROTOCOL)"
      ],
      "metadata": {
        "id": "YapEFGGiXOh9"
      },
      "execution_count": null,
      "outputs": []
    },
    {
      "cell_type": "code",
      "source": [
        "# Use Hummingbird to convert the model to PyTorch\n",
        "model = convert(gb_clf, 'pytorch')\n",
        "# Save the model\n",
        "model.save('drive/MyDrive/EventDetection/saved_models/pytorch_gb')"
      ],
      "metadata": {
        "colab": {
          "base_uri": "https://localhost:8080/"
        },
        "id": "gjICk5uRXSxH",
        "outputId": "0ab75f7b-ea7a-4ece-e95c-b6023e1c9be1"
      },
      "execution_count": null,
      "outputs": [
        {
          "output_type": "stream",
          "name": "stderr",
          "text": [
            "/usr/local/lib/python3.7/dist-packages/sklearn/utils/deprecation.py:103: FutureWarning: Attribute `n_features_` was deprecated in version 1.0 and will be removed in 1.2. Use `n_features_in_` instead.\n",
            "  warnings.warn(msg, category=FutureWarning)\n"
          ]
        }
      ]
    },
    {
      "cell_type": "markdown",
      "source": [
        "## Random Forest"
      ],
      "metadata": {
        "id": "FGoGScgQ_EfN"
      }
    },
    {
      "cell_type": "code",
      "source": [
        "from sklearn.ensemble import RandomForestClassifier\n",
        "clf=RandomForestClassifier(n_estimators=100)\n",
        "clf.fit(framesTrain, labelsTrain)\n",
        "labelPredict = clf.predict(framesTest)\n",
        "print(confusion_matrix(labelsTest, labelPredict))\n",
        "print(classification_report(labelsTest, labelPredict))\n",
        "print('ROC-AUC Score : ', roc_auc_score(labelsTest, labelPredict))\n",
        "print('Total Accuracy: ',accuracy_score(labelsTest,labelPredict))"
      ],
      "metadata": {
        "id": "quZyd5RvLu4V"
      },
      "execution_count": null,
      "outputs": []
    },
    {
      "cell_type": "code",
      "source": [
        "with open('drive/MyDrive/EventDetection/saved_models/skl_randomforest.pickle', 'wb')as saved:\n",
        "    pickle.dump(clf, saved, protocol=pickle.HIGHEST_PROTOCOL)"
      ],
      "metadata": {
        "id": "4jfonyNxAZto"
      },
      "execution_count": null,
      "outputs": []
    },
    {
      "cell_type": "code",
      "source": [
        "# Use Hummingbird to convert the model to PyTorch\n",
        "model = convert(clf, 'pytorch')\n",
        "# Save the model\n",
        "model.save('drive/MyDrive/EventDetection/saved_models/pytorch_randomforest')"
      ],
      "metadata": {
        "id": "DOHQtrTVAdls",
        "colab": {
          "base_uri": "https://localhost:8080/"
        },
        "outputId": "c6ae990e-a065-40eb-b48e-8efa5b70c416"
      },
      "execution_count": null,
      "outputs": [
        {
          "output_type": "stream",
          "name": "stderr",
          "text": [
            "/usr/local/lib/python3.7/dist-packages/sklearn/utils/deprecation.py:103: FutureWarning: Attribute `n_features_` was deprecated in version 1.0 and will be removed in 1.2. Use `n_features_in_` instead.\n",
            "  warnings.warn(msg, category=FutureWarning)\n"
          ]
        }
      ]
    },
    {
      "cell_type": "markdown",
      "source": [
        "## AdaBoost"
      ],
      "metadata": {
        "id": "V-Y9_3dezyD6"
      }
    },
    {
      "cell_type": "code",
      "source": [
        "from sklearn.ensemble import AdaBoostClassifier\n",
        "ada_clf = AdaBoostClassifier(n_estimators=100, random_state=0)\n",
        "ada_clf.fit(framesTrain, labelsTrain)\n",
        "labelPredict = ada_clf.predict(framesTest)\n",
        "print(confusion_matrix(labelsTest, labelPredict))\n",
        "print(classification_report(labelsTest, labelPredict))\n",
        "print('ROC-AUC Score : ', roc_auc_score(labelsTest, labelPredict))\n",
        "print('Total Accuracy: ',accuracy_score(labelsTest,labelPredict))"
      ],
      "metadata": {
        "colab": {
          "base_uri": "https://localhost:8080/"
        },
        "id": "1pTV1RzOzxTg",
        "outputId": "17f007b9-a5e1-4290-eec0-1db568553288"
      },
      "execution_count": 14,
      "outputs": [
        {
          "output_type": "stream",
          "name": "stdout",
          "text": [
            "[[8596   96]\n",
            " [1047 8769]]\n",
            "              precision    recall  f1-score   support\n",
            "\n",
            "           0       0.89      0.99      0.94      8692\n",
            "           1       0.99      0.89      0.94      9816\n",
            "\n",
            "    accuracy                           0.94     18508\n",
            "   macro avg       0.94      0.94      0.94     18508\n",
            "weighted avg       0.94      0.94      0.94     18508\n",
            "\n",
            "ROC-AUC Score :  0.9411463847823419\n",
            "Total Accuracy:  0.9382429219796845\n"
          ]
        }
      ]
    },
    {
      "cell_type": "code",
      "source": [
        "with open('drive/MyDrive/EventDetection/saved_models/skl_adaboost.pickle', 'wb')as saved:\n",
        "    pickle.dump(ada_clf, saved, protocol=pickle.HIGHEST_PROTOCOL)"
      ],
      "metadata": {
        "id": "mRJ6oJT8PmdD"
      },
      "execution_count": 15,
      "outputs": []
    }
  ]
}